{
 "cells": [
  {
   "cell_type": "markdown",
   "metadata": {},
   "source": [
    "# 제목\n",
    "### 부제목\n",
    "\n",
    "#### **목차**\n",
    "* __1. 데이터 전처리__\n",
    "* __2. 데이터 살펴보기__\n",
    "* __3. 날씨가 구매에 영향을 미칠까__\n",
    "* __4. 날씨가 sns 언급횟수에 영향을 미칠까__ "
   ]
  },
  {
   "cell_type": "markdown",
   "metadata": {},
   "source": [
    "#### **사용 데이터 목록**\n",
    "\n",
    "* buy2018_1.csv\n",
    "* buy2018_2.csv\n",
    "* buy2019_1.csv\n",
    "* buy2019_2.csv\n",
    "* sns2018_1.csv\n",
    "* sns2018_2.csv\n",
    "* sns2019_1.csv\n",
    "* sns2019_2.csv"
   ]
  },
  {
   "cell_type": "code",
   "execution_count": null,
   "metadata": {},
   "outputs": [],
   "source": [
    "import numpy as np\n",
    "import pandas as pd\n",
    "\n",
    "%matplotlib inline\n",
    "import matplotlib.pyplot as plt\n",
    "import seaborn as sns\n",
    "\n",
    "\n",
    "from datetime import datetime\n",
    "from sklearn.preprocessing import MinMaxScaler"
   ]
  },
  {
   "cell_type": "code",
   "execution_count": null,
   "metadata": {},
   "outputs": [],
   "source": [
    "# 그래프 한글 폰트 설정 (한번 돌린 후 런타임 다시시작하고 다시 돌려야 제대로 나옴)\n",
    "\n",
    "import matplotlib as mpl\n",
    "import matplotlib.pyplot as plt\n",
    "import matplotlib.font_manager as fm\n",
    "\n",
    "%config InlineBackend.figure_format = 'retina'\n",
    "!apt -qq -y install fonts-nanum\n",
    "\n",
    "fontpath =  '/usr/share/fonts/un-core/UnDotum.ttf',\n",
    "font = fm.FontProperties(fname=fontpath, size=9)\n",
    "plt.rc('font', family='UnDotum') \n",
    "mpl.font_manager._rebuild()\n",
    "\n",
    "from IPython.display import set_matplotlib_formats\n",
    "#폰트 선명하게 보이게 하기 위해\n",
    "set_matplotlib_formats('retina')\n",
    "\n",
    "## Test\n",
    "plt.figure(figsize=(2,2))\n",
    "plt.text(0.3, 0.3, '한글 폰트 테스트', size=15)\n",
    "plt.show()"
   ]
  },
  {
   "cell_type": "code",
   "execution_count": null,
   "metadata": {},
   "outputs": [],
   "source": [
    "from sklearn.ensemble import RandomForestRegressor\n",
    "from sklearn.metrics import mean_squared_error\n",
    "import warnings\n",
    "warnings.filterwarnings('ignore')\n",
    "from sklearn.model_selection import train_test_split\n",
    "from sklearn.preprocessing import MinMaxScaler\n",
    "from sklearn.model_selection import cross_val_score\n",
    "from sklearn.model_selection import GridSearchCV"
   ]
  },
  {
   "cell_type": "markdown",
   "metadata": {},
   "source": [
    "## __1. 데이터 전처리__ "
   ]
  },
  {
   "cell_type": "markdown",
   "metadata": {},
   "source": [
    "### __1-1. buy, sns 데이터 전처리__"
   ]
  },
  {
   "cell_type": "code",
   "execution_count": null,
   "metadata": {},
   "outputs": [],
   "source": [
    "buy2018_1 = pd.read_csv(\"buy2018_1.csv\")\n",
    "buy2018_2 = pd.read_csv(\"buy2018_2.csv\")\n",
    "buy2019_1 = pd.read_csv(\"buy2019_1.csv\")\n",
    "buy2019_2 = pd.read_csv(\"buy2019_2.csv\")\n",
    "\n",
    "sns2018_1 = pd.read_csv(\"sns2018_1.csv\")\n",
    "sns2018_2 = pd.read_csv(\"sns2018_2.csv\")\n",
    "sns2019_1 = pd.read_csv(\"sns2019_1.csv\")\n",
    "sns2019_2 = pd.read_csv(\"sns2019_2.csv\")\n",
    "\n",
    "buy2018_1=pd.DataFrame(buy2018_1)\n",
    "buy2018_2=pd.DataFrame(buy2018_2)\n",
    "buy2019_1=pd.DataFrame(buy2019_1)\n",
    "buy2019_2=pd.DataFrame(buy2019_2)\n",
    "\n",
    "sns2018_1=pd.DataFrame(sns2018_1)\n",
    "sns2018_2=pd.DataFrame(sns2018_2)\n",
    "sns2019_1=pd.DataFrame(sns2019_1)\n",
    "sns2019_2=pd.DataFrame(sns2019_2)"
   ]
  },
  {
   "cell_type": "code",
   "execution_count": null,
   "metadata": {},
   "outputs": [],
   "source": [
    "buy2018_1=buy2018_1.drop(\"Unnamed: 0\", axis=1)\n",
    "buy2018_1.columns = ['date', 'sex', 'age', 'bcat', 'scat', 'qty']\n",
    "\n",
    "buy2018_2=buy2018_2.drop(\"Unnamed: 0\", axis=1)\n",
    "buy2018_2.columns = ['date', 'sex', 'age', 'bcat', 'scat', 'qty']\n",
    "\n",
    "buy2019_1=buy2019_1.drop(\"Unnamed: 0\", axis=1)\n",
    "buy2019_1.columns = ['date', 'sex', 'age', 'bcat', 'scat', 'qty']\n",
    "\n",
    "buy2019_2=buy2019_2.drop(\"Unnamed: 0\", axis=1)\n",
    "buy2019_2.columns = ['date', 'sex', 'age', 'bcat', 'scat', 'qty']\n",
    "\n",
    "sns2018_1=sns2018_1.drop(\"Unnamed: 0\", axis=1)\n",
    "sns2018_1.columns = ['date', 'bcat', 'scat', 'cnt']\n",
    "\n",
    "sns2018_2=sns2018_2.drop(\"Unnamed: 0\", axis=1)\n",
    "sns2018_2.columns = ['date', 'bcat', 'scat', 'cnt']\n",
    "\n",
    "sns2019_1=sns2019_1.drop(\"Unnamed: 0\", axis=1)\n",
    "sns2019_1.columns = ['date', 'bcat', 'scat', 'cnt']\n",
    "\n",
    "sns2019_2=sns2019_2.drop(\"Unnamed: 0\", axis=1)\n",
    "sns2019_2.columns = ['date', 'bcat', 'scat', 'cnt']"
   ]
  },
  {
   "cell_type": "code",
   "execution_count": null,
   "metadata": {},
   "outputs": [],
   "source": [
    "buy2018 = pd.concat([buy2018_1,buy2018_2], axis=0)\n",
    "buy2019 = pd.concat([buy2019_1,buy2019_2], axis=0)\n",
    "\n",
    "buy2018=buy2018.reset_index(drop=True)\n",
    "buy2019=buy2019.reset_index(drop=True)\n",
    "\n",
    "sns2018 = pd.concat([sns2018_1,sns2018_2], axis=0)\n",
    "sns2019 = pd.concat([sns2019_1,sns2019_2], axis=0)\n",
    "\n",
    "sns2018=sns2018.reset_index(drop=True)\n",
    "sns2019=sns2019.reset_index(drop=True)"
   ]
  },
  {
   "cell_type": "code",
   "execution_count": null,
   "metadata": {},
   "outputs": [],
   "source": [
    "buy2018[\"date\"]=pd.to_datetime(buy2018[\"date\"],format='%Y%m%d')\n",
    "buy2019[\"date\"]=pd.to_datetime(buy2019[\"date\"],format='%Y%m%d')\n",
    "sns2018[\"date\"]=pd.to_datetime(sns2018[\"date\"],format='%Y%m%d')\n",
    "sns2019[\"date\"]=pd.to_datetime(sns2019[\"date\"],format='%Y%m%d')"
   ]
  },
  {
   "cell_type": "code",
   "execution_count": null,
   "metadata": {},
   "outputs": [],
   "source": [
    "buy2018.head()"
   ]
  },
  {
   "cell_type": "markdown",
   "metadata": {},
   "source": [
    "### __1-2. 날씨 데이터 전처리__"
   ]
  },
  {
   "cell_type": "code",
   "execution_count": null,
   "metadata": {},
   "outputs": [],
   "source": [
    "ta18 = pd.read_csv(\"ta18.csv\") #기온\n",
    "rhm18 = pd.read_csv(\"rhm18.csv\") #상대습도\n",
    "cl18 = pd.read_csv(\"cloud18.csv\") #구름\n",
    "\n",
    "rn18_1 = pd.read_csv(\"rn18_1.csv\") #강수\n",
    "rn18_2 = pd.read_csv(\"rn18_2.csv\") \n",
    "rn18_3 = pd.read_csv(\"rn18_3.csv\") \n",
    "rn18_4 = pd.read_csv(\"rn18_4.csv\") \n",
    "rn18_5 = pd.read_csv(\"rn18_5.csv\") \n",
    "rn18_6 = pd.read_csv(\"rn18_6.csv\") \n",
    "rn18_7 = pd.read_csv(\"rn18_7.csv\") \n",
    "rn18_8 = pd.read_csv(\"rn18_8.csv\") \n",
    "rn18_9 = pd.read_csv(\"rn18_9.csv\") \n",
    "rn18_10 = pd.read_csv(\"rn18_10.csv\") \n",
    "rn18_11 = pd.read_csv(\"rn18_11.csv\")\n",
    "rn18_12 = pd.read_csv(\"rn18_12.csv\") "
   ]
  },
  {
   "cell_type": "code",
   "execution_count": null,
   "metadata": {},
   "outputs": [],
   "source": [
    "ta19 = pd.read_csv(\"ta19.csv\") #기온\n",
    "rhm19 = pd.read_csv(\"rhm19.csv\") #상대습도\n",
    "cl19 = pd.read_csv(\"cloud19.csv\") #구름\n",
    "\n",
    "rn19_1 = pd.read_csv(\"rn19_1.csv\") #강수\n",
    "rn19_2 = pd.read_csv(\"rn19_2.csv\") \n",
    "rn19_3 = pd.read_csv(\"rn19_3.csv\") \n",
    "rn19_4 = pd.read_csv(\"rn19_4.csv\") \n",
    "rn19_5 = pd.read_csv(\"rn19_5.csv\") \n",
    "rn19_6 = pd.read_csv(\"rn19_6.csv\") \n",
    "rn19_7 = pd.read_csv(\"rn19_7.csv\") \n",
    "rn19_8 = pd.read_csv(\"rn19_8.csv\") \n",
    "rn19_9 = pd.read_csv(\"rn19_9.csv\") \n",
    "rn19_10 = pd.read_csv(\"rn19_10.csv\") \n",
    "rn19_11 = pd.read_csv(\"rn19_11.csv\")\n",
    "rn19_12 = pd.read_csv(\"rn19_12.csv\") "
   ]
  },
  {
   "cell_type": "code",
   "execution_count": null,
   "metadata": {},
   "outputs": [],
   "source": [
    "ta18=pd.DataFrame(ta18)\n",
    "rhm18=pd.DataFrame(rhm18)\n",
    "cl18=pd.DataFrame(cl18)\n",
    "rn18_1=pd.DataFrame(rn18_1)\n",
    "rn18_2=pd.DataFrame(rn18_2)\n",
    "rn18_3=pd.DataFrame(rn18_3)\n",
    "rn18_4=pd.DataFrame(rn18_4)\n",
    "rn18_5=pd.DataFrame(rn18_5)\n",
    "rn18_6=pd.DataFrame(rn18_6)\n",
    "rn18_7=pd.DataFrame(rn18_7)\n",
    "rn18_8=pd.DataFrame(rn18_8)\n",
    "rn18_9=pd.DataFrame(rn18_9)\n",
    "rn18_10=pd.DataFrame(rn18_10)\n",
    "rn18_11=pd.DataFrame(rn18_11)\n",
    "rn18_12=pd.DataFrame(rn18_12)\n",
    "\n",
    "ta19=pd.DataFrame(ta19)\n",
    "rhm19=pd.DataFrame(rhm19)\n",
    "cl19=pd.DataFrame(cl19)\n",
    "rn19_1=pd.DataFrame(rn19_1)\n",
    "rn19_2=pd.DataFrame(rn19_2)\n",
    "rn19_3=pd.DataFrame(rn19_3)\n",
    "rn19_4=pd.DataFrame(rn19_4)\n",
    "rn19_5=pd.DataFrame(rn19_5)\n",
    "rn19_6=pd.DataFrame(rn19_6)\n",
    "rn19_7=pd.DataFrame(rn19_7)\n",
    "rn19_8=pd.DataFrame(rn19_8)\n",
    "rn19_9=pd.DataFrame(rn19_9)\n",
    "rn19_10=pd.DataFrame(rn19_10)\n",
    "rn19_11=pd.DataFrame(rn19_11)\n",
    "rn19_12=pd.DataFrame(rn19_12)"
   ]
  },
  {
   "cell_type": "code",
   "execution_count": null,
   "metadata": {},
   "outputs": [],
   "source": [
    "ta18=ta18[[\"tma\",\"avg_ta\"]]\n",
    "ta18.columns = ['date', 'avg_ta']\n",
    "ta19=ta19[[\"tma\",\"avg_ta\"]]\n",
    "ta19.columns = ['date', 'avg_ta']\n",
    "\n",
    "rhm18=rhm18[[\"tma\",\"avg_rhm\"]]\n",
    "rhm18.columns = ['date', 'avg_rhm']\n",
    "rhm19=rhm19[[\"tma\",\"avg_rhm\"]]\n",
    "rhm19.columns = ['date', 'avg_rhm']\n",
    "\n",
    "cl18=cl18[[\"tma\",\"avg_tca\"]]\n",
    "cl18.columns = ['date', 'avg_cl']\n",
    "cl19=cl19[[\"tma\",\"avg_tca\"]]\n",
    "cl19.columns = ['date', 'avg_cl']"
   ]
  },
  {
   "cell_type": "code",
   "execution_count": null,
   "metadata": {},
   "outputs": [],
   "source": [
    "rn18 = pd.concat([rn18_1,rn18_2,rn18_3,rn18_4,rn18_5,rn18_6,rn18_7,rn18_8,rn18_9,rn18_10,rn18_11,rn18_12], axis=0)\n",
    "rn19 = pd.concat([rn19_1,rn19_2,rn19_3,rn19_4,rn19_5,rn19_6,rn19_7,rn19_8,rn19_9,rn19_10,rn19_11,rn19_12], axis=0)\n",
    "\n",
    "rn18=rn18[[\"tma\",\"sum_rn\"]]\n",
    "rn18.columns = ['date', 'sum_rn']\n",
    "rn19=rn19[[\"tma\",\"sum_rn\"]]\n",
    "rn19.columns = ['date', 'sum_rn']"
   ]
  },
  {
   "cell_type": "code",
   "execution_count": null,
   "metadata": {},
   "outputs": [],
   "source": [
    "ta18[\"date\"]=pd.to_datetime(ta18[\"date\"],format='%Y-%m-%d %H:%M:%S')\n",
    "rhm18[\"date\"]=pd.to_datetime(rhm18[\"date\"],format='%Y-%m-%d %H:%M:%S')\n",
    "cl18[\"date\"]=pd.to_datetime(cl18[\"date\"],format='%Y-%m-%d %H:%M:%S')\n",
    "rn18[\"date\"]=pd.to_datetime(rn18[\"date\"],format='%Y-%m-%d %H:%M:%S')\n",
    "\n",
    "ta19[\"date\"]=pd.to_datetime(ta19[\"date\"],format='%Y-%m-%d %H:%M:%S')\n",
    "rhm19[\"date\"]=pd.to_datetime(rhm19[\"date\"],format='%Y-%m-%d %H:%M:%S')\n",
    "cl19[\"date\"]=pd.to_datetime(cl19[\"date\"],format='%Y-%m-%d %H:%M:%S')\n",
    "rn19[\"date\"]=pd.to_datetime(rn19[\"date\"],format='%Y-%m-%d %H:%M:%S')\n",
    "\n",
    "ta18[\"date\"]=pd.to_datetime(ta18['date']).dt.date\n",
    "rhm18[\"date\"]= pd.to_datetime(rhm18['date']).dt.date\n",
    "cl18[\"date\"]= pd.to_datetime(cl18['date']).dt.date\n",
    "rn18[\"date\"]= pd.to_datetime(rn18['date']).dt.date\n",
    "\n",
    "ta19[\"date\"]= pd.to_datetime(ta19['date']).dt.date\n",
    "rhm19[\"date\"]= pd.to_datetime(rhm19['date']).dt.date\n",
    "cl19[\"date\"]= pd.to_datetime(cl19['date']).dt.date\n",
    "rn19[\"date\"]= pd.to_datetime(rn19['date']).dt.date"
   ]
  },
  {
   "cell_type": "code",
   "execution_count": null,
   "metadata": {},
   "outputs": [],
   "source": [
    "ta18=ta18.groupby([\"date\"]).mean()\n",
    "rhm18=rhm18.groupby([\"date\"]).mean()\n",
    "cl18=cl18.groupby([\"date\"]).mean()\n",
    "rn18=rn18.groupby([\"date\"]).mean()\n",
    "ta19=ta19.groupby([\"date\"]).mean()\n",
    "rhm19=rhm19.groupby([\"date\"]).mean()\n",
    "cl19=cl19.groupby([\"date\"]).mean()\n",
    "rn19=rn19.groupby([\"date\"]).mean()"
   ]
  },
  {
   "cell_type": "code",
   "execution_count": null,
   "metadata": {},
   "outputs": [],
   "source": [
    "weather18=pd.concat([ta18,rhm18,cl18,rn18],axis=1)\n",
    "weather19=pd.concat([ta19,rhm19,cl19,rn19],axis=1)"
   ]
  },
  {
   "cell_type": "code",
   "execution_count": null,
   "metadata": {},
   "outputs": [],
   "source": [
    "weather18.columns = ['avg_ta','avg_rhm','avg_tca','sum_rn']\n",
    "weather19.columns = ['avg_ta','avg_rhm','avg_tca','sum_rn']"
   ]
  },
  {
   "cell_type": "code",
   "execution_count": null,
   "metadata": {},
   "outputs": [],
   "source": [
    "weather18.isnull().sum()"
   ]
  },
  {
   "cell_type": "code",
   "execution_count": null,
   "metadata": {},
   "outputs": [],
   "source": [
    "weather18[\"sum_rn\"]=weather18[\"sum_rn\"].fillna(0)"
   ]
  },
  {
   "cell_type": "code",
   "execution_count": null,
   "metadata": {},
   "outputs": [],
   "source": [
    "weather19.isnull().sum()"
   ]
  },
  {
   "cell_type": "code",
   "execution_count": null,
   "metadata": {},
   "outputs": [],
   "source": [
    "weather19[\"sum_rn\"]=weather19[\"sum_rn\"].fillna(0)"
   ]
  },
  {
   "cell_type": "code",
   "execution_count": null,
   "metadata": {},
   "outputs": [],
   "source": [
    "weather18.to_csv(\"weather18.csv\", index=False)\n",
    "weather19.to_csv(\"weather19.csv\", index=False)"
   ]
  },
  {
   "cell_type": "code",
   "execution_count": null,
   "metadata": {},
   "outputs": [],
   "source": []
  },
  {
   "cell_type": "markdown",
   "metadata": {},
   "source": [
    "## __2. 데이터 살펴보기__ "
   ]
  },
  {
   "cell_type": "code",
   "execution_count": null,
   "metadata": {},
   "outputs": [],
   "source": [
    "buy2018['sex'].value_counts()"
   ]
  },
  {
   "cell_type": "code",
   "execution_count": null,
   "metadata": {
    "scrolled": true
   },
   "outputs": [],
   "source": [
    "buy2018['age'].value_counts()"
   ]
  },
  {
   "cell_type": "code",
   "execution_count": null,
   "metadata": {},
   "outputs": [],
   "source": [
    "buy2018['bcat'].value_counts()"
   ]
  },
  {
   "cell_type": "code",
   "execution_count": null,
   "metadata": {},
   "outputs": [],
   "source": [
    "buy2019['sex'].value_counts()"
   ]
  },
  {
   "cell_type": "code",
   "execution_count": null,
   "metadata": {
    "scrolled": true
   },
   "outputs": [],
   "source": [
    "buy2019['age'].value_counts()"
   ]
  },
  {
   "cell_type": "code",
   "execution_count": null,
   "metadata": {},
   "outputs": [],
   "source": [
    "buy2019['bcat'].value_counts()"
   ]
  },
  {
   "cell_type": "markdown",
   "metadata": {},
   "source": [
    "### __2-1.뷰티 카테고리__"
   ]
  },
  {
   "cell_type": "code",
   "execution_count": null,
   "metadata": {},
   "outputs": [],
   "source": [
    "buy2018_b=buy2018[buy2018[\"bcat\"]==\"뷰티\"]\n",
    "buy2019_b=buy2019[buy2019[\"bcat\"]==\"뷰티\"]\n",
    "sns2018_b=sns2018[sns2018[\"bcat\"]==\"뷰티\"]\n",
    "sns2019_b=sns2019[sns2019[\"bcat\"]==\"뷰티\"]\n",
    "\n",
    "buy2018_b=buy2018_b.reset_index(drop=True)\n",
    "buy2019_b=buy2019_b.reset_index(drop=True)\n",
    "sns2018_b=sns2018_b.reset_index(drop=True)\n",
    "sns2019_b=sns2019_b.reset_index(drop=True)"
   ]
  },
  {
   "cell_type": "markdown",
   "metadata": {
    "collapsed": true
   },
   "source": [
    "#### 2018년"
   ]
  },
  {
   "cell_type": "code",
   "execution_count": null,
   "metadata": {
    "scrolled": true
   },
   "outputs": [],
   "source": [
    "# 시계열 (2018 전체)\n",
    "b_18=buy2018_b.groupby(by='date').sum()\n",
    "plt.figure(figsize=(20,10))\n",
    "plt.plot(b_18['qty'])\n",
    "plt.show()"
   ]
  },
  {
   "cell_type": "code",
   "execution_count": null,
   "metadata": {},
   "outputs": [],
   "source": [
    "sns.countplot(buy2018_b['sex'])"
   ]
  },
  {
   "cell_type": "code",
   "execution_count": null,
   "metadata": {},
   "outputs": [],
   "source": [
    "sns.countplot(buy2018_b['age'])"
   ]
  },
  {
   "cell_type": "code",
   "execution_count": null,
   "metadata": {
    "scrolled": true
   },
   "outputs": [],
   "source": [
    "buy2018_b.scat.value_counts().sort_values(ascending=False)[:10]"
   ]
  },
  {
   "cell_type": "code",
   "execution_count": null,
   "metadata": {},
   "outputs": [],
   "source": [
    "b_top10=buy2018_b[(buy2018_b['scat']=='기초 화장용 크림')|\n",
    "                  (buy2018_b['scat']=='샴푸')|\n",
    "                  (buy2018_b['scat']=='헤어스타일링용 염색약')|\n",
    "                  (buy2018_b['scat']=='기초 화장용 에센스')|\n",
    "                  (buy2018_b['scat']=='기초 화장용 로션')|\n",
    "                  (buy2018_b['scat']=='스킨케어 마스크팩')|\n",
    "                  (buy2018_b['scat']=='기초 화장용 스킨')|\n",
    "                  (buy2018_b['scat']=='클렌징 폼')|\n",
    "                  (buy2018_b['scat']=='화장 비누')|\n",
    "                  (buy2018_b['scat']=='기능성 아이케어 화장품')]"
   ]
  },
  {
   "cell_type": "code",
   "execution_count": null,
   "metadata": {
    "scrolled": false
   },
   "outputs": [],
   "source": [
    "plt.figure(figsize=(10,5))\n",
    "plt.xticks(rotation=90)\n",
    "sns.barplot(data=b_top10, x='scat', hue='sex', y='qty', estimator=np.sum)"
   ]
  },
  {
   "cell_type": "markdown",
   "metadata": {},
   "source": [
    "__ 소카테고리 분류__"
   ]
  },
  {
   "cell_type": "code",
   "execution_count": null,
   "metadata": {},
   "outputs": [],
   "source": [
    "def findcat(i):\n",
    "    if \"기능성\" in i:\n",
    "        return \"기능성\"\n",
    "    elif \"기초\" in i:\n",
    "        return \"스킨케어\"\n",
    "    elif \"스킨케어\" in i:\n",
    "        return \"스킨케어\"\n",
    "    elif \"남성\" in i:\n",
    "        return \"남성\"\n",
    "    elif \"네일\" in i:\n",
    "        return \"네일\"\n",
    "    elif \"바디\" in i:\n",
    "        return \"바디\"\n",
    "    elif \"메이크업\" in i:\n",
    "        return \"메이크업\"\n",
    "    elif \"뷰티\" in i:\n",
    "        return \"뷰티\"\n",
    "    elif \"클렌징\" in i:\n",
    "        return \"클렌징\"\n",
    "    elif \"헤어\" in i:\n",
    "        return \"헤어\"\n",
    "    elif \"선\" in i:\n",
    "        return \"선\"\n",
    "    elif \"풋\" in i:\n",
    "        return \"풋\"\n",
    "    elif \"핸드\" in i:\n",
    "        return \"핸드\"\n",
    "    elif i==\"샴푸\":\n",
    "        return \"샴푸/트리트먼트\"\n",
    "    elif i==\"트리트먼트\":\n",
    "        return \"샴푸/트리트먼트\"\n",
    "    else:\n",
    "        return \"기타\""
   ]
  },
  {
   "cell_type": "code",
   "execution_count": null,
   "metadata": {
    "scrolled": true
   },
   "outputs": [],
   "source": [
    "buy2018_b[\"cat\"]=buy2018_b[\"scat\"].apply(lambda x: findcat(x))\n",
    "buy2019_b[\"cat\"]=buy2019_b[\"scat\"].apply(lambda x: findcat(x))\n",
    "sns2018_b[\"cat\"]=sns2018_b[\"scat\"].apply(lambda x: findcat(x))\n",
    "sns2019_b[\"cat\"]=sns2019_b[\"scat\"].apply(lambda x: findcat(x))"
   ]
  },
  {
   "cell_type": "code",
   "execution_count": null,
   "metadata": {
    "scrolled": true
   },
   "outputs": [],
   "source": [
    "buy2018_b.cat.value_counts().sort_values(ascending=False)"
   ]
  },
  {
   "cell_type": "code",
   "execution_count": null,
   "metadata": {
    "scrolled": false
   },
   "outputs": [],
   "source": [
    "plt.figure(figsize=(10,5))\n",
    "plt.xticks(rotation=90)\n",
    "sns.countplot(buy2018_b['cat'])"
   ]
  },
  {
   "cell_type": "code",
   "execution_count": null,
   "metadata": {},
   "outputs": [],
   "source": [
    "buy2018_b_gb=buy2018_b.groupby(['date','cat'])['qty'].sum()\n",
    "buy2018_b_gb=buy2018_b_gb.reset_index()"
   ]
  },
  {
   "cell_type": "code",
   "execution_count": null,
   "metadata": {},
   "outputs": [],
   "source": [
    "plt.figure(figsize=(10,5))\n",
    "for cat in buy2018_b[\"cat\"].unique():\n",
    "    d_ = buy2018_b_gb[(buy2018_b_gb[\"cat\"]==cat)]\n",
    "    plt.plot(d_[\"date\"], d_[\"qty\"], \"-\", label=str(cat), alpha=.8)\n",
    "plt.grid()\n",
    "plt.legend(bbox_to_anchor=(1.15, 1),loc='upper right', fontsize='xx-small')\n",
    "plt.xticks(rotation=90)\n",
    "plt.show()"
   ]
  },
  {
   "cell_type": "markdown",
   "metadata": {
    "collapsed": true
   },
   "source": [
    "#### 2019년"
   ]
  },
  {
   "cell_type": "code",
   "execution_count": null,
   "metadata": {
    "scrolled": false
   },
   "outputs": [],
   "source": [
    "# 시계열 (2019 전체)\n",
    "b_19=buy2019_b.groupby(by='date').sum()\n",
    "plt.figure(figsize=(20,10))\n",
    "plt.plot(b_19['qty'])\n",
    "plt.show()"
   ]
  },
  {
   "cell_type": "code",
   "execution_count": null,
   "metadata": {},
   "outputs": [],
   "source": [
    "sns.countplot(buy2019_b['sex'])"
   ]
  },
  {
   "cell_type": "code",
   "execution_count": null,
   "metadata": {},
   "outputs": [],
   "source": [
    "sns.countplot(buy2019_b['age'])"
   ]
  },
  {
   "cell_type": "code",
   "execution_count": null,
   "metadata": {
    "scrolled": true
   },
   "outputs": [],
   "source": [
    "buy2019_b.scat.value_counts().sort_values(ascending=False)[:10]"
   ]
  },
  {
   "cell_type": "code",
   "execution_count": null,
   "metadata": {},
   "outputs": [],
   "source": [
    "b_top10=buy2019_b[(buy2019_b['scat']=='기초 화장용 에센스')|\n",
    "                  (buy2019_b['scat']=='기초 화장용 크림')|\n",
    "                  (buy2019_b['scat']=='샴푸')|\n",
    "                  (buy2019_b['scat']=='헤어스타일링용 염색약')|\n",
    "                  (buy2019_b['scat']=='기초 화장용 로션')|\n",
    "                  (buy2019_b['scat']=='기초 화장용 스킨')|\n",
    "                  (buy2019_b['scat']=='화장 비누')|\n",
    "                  (buy2019_b['scat']=='클렌징 폼')|\n",
    "                  (buy2019_b['scat']=='트리트먼트')|\n",
    "                  (buy2019_b['scat']=='스킨케어 마스크팩')]"
   ]
  },
  {
   "cell_type": "code",
   "execution_count": null,
   "metadata": {
    "scrolled": false
   },
   "outputs": [],
   "source": [
    "plt.figure(figsize=(10,5))\n",
    "plt.xticks(rotation=90)\n",
    "sns.barplot(data=b_top10, x='scat', hue='sex', y='qty', estimator=np.sum)"
   ]
  },
  {
   "cell_type": "markdown",
   "metadata": {},
   "source": [
    "__ 소카테고리 분류__"
   ]
  },
  {
   "cell_type": "code",
   "execution_count": null,
   "metadata": {
    "scrolled": true
   },
   "outputs": [],
   "source": [
    "buy2019_b.cat.value_counts().sort_values(ascending=False)"
   ]
  },
  {
   "cell_type": "code",
   "execution_count": null,
   "metadata": {
    "scrolled": false
   },
   "outputs": [],
   "source": [
    "plt.figure(figsize=(10,5))\n",
    "plt.xticks(rotation=90)\n",
    "sns.countplot(buy2019_b['cat'])"
   ]
  },
  {
   "cell_type": "code",
   "execution_count": null,
   "metadata": {},
   "outputs": [],
   "source": [
    "buy2019_b_gb=buy2019_b.groupby(['date','cat'])['qty'].sum()\n",
    "buy2019_b_gb=buy2019_b_gb.reset_index()"
   ]
  },
  {
   "cell_type": "code",
   "execution_count": null,
   "metadata": {
    "scrolled": true
   },
   "outputs": [],
   "source": [
    "plt.figure(figsize=(10,5))\n",
    "for cat in buy2019_b[\"cat\"].unique():\n",
    "    d_ = buy2019_b_gb[(buy2019_b_gb[\"cat\"]==cat)]\n",
    "    plt.plot(d_[\"date\"], d_[\"qty\"], \"-\", label=str(cat), alpha=.8)\n",
    "plt.grid()\n",
    "plt.legend(bbox_to_anchor=(1.15, 1),loc='upper right', fontsize='xx-small')\n",
    "plt.xticks(rotation=90)\n",
    "plt.show()"
   ]
  },
  {
   "cell_type": "code",
   "execution_count": null,
   "metadata": {},
   "outputs": [],
   "source": []
  },
  {
   "cell_type": "markdown",
   "metadata": {},
   "source": [
    "### __2-2. 냉난방 카테고리__"
   ]
  },
  {
   "cell_type": "markdown",
   "metadata": {},
   "source": [
    "#### __2018년__"
   ]
  },
  {
   "cell_type": "code",
   "execution_count": null,
   "metadata": {},
   "outputs": [],
   "source": [
    "#2018 구매 냉난방만 추출\n",
    "buy2018_EA=buy2018[(buy2018['bcat']=='냉난방가전')]"
   ]
  },
  {
   "cell_type": "code",
   "execution_count": null,
   "metadata": {},
   "outputs": [],
   "source": [
    "#성별분포\n",
    "sns.countplot(buy2018_EA['sex'])"
   ]
  },
  {
   "cell_type": "code",
   "execution_count": null,
   "metadata": {},
   "outputs": [],
   "source": [
    "sns.countplot(buy2018_EA['age'])"
   ]
  },
  {
   "cell_type": "code",
   "execution_count": null,
   "metadata": {},
   "outputs": [],
   "source": []
  },
  {
   "cell_type": "code",
   "execution_count": null,
   "metadata": {
    "scrolled": false
   },
   "outputs": [],
   "source": [
    "plt.figure(figsize=(10,5))\n",
    "plt.xticks(rotation=90)\n",
    "sns.countplot(buy2018_EA['scat'])"
   ]
  },
  {
   "cell_type": "code",
   "execution_count": null,
   "metadata": {},
   "outputs": [],
   "source": [
    "# 2018구매 횟수 top 8 품목 분리\n",
    "buy18_EA_T8=buy2018_EA[(buy2018_EA['scat']=='온열매트')|(buy2018_EA['scat']=='공기정화 용품')|(buy2018_EA['scat']=='공기청정기')|(buy2018_EA['scat']=='히터')|(buy2018_EA['scat']=='초음파식 가습기')|(buy2018_EA['scat']=='온수매트')|(buy2018_EA['scat']=='휴대용 선풍기')|(buy2018_EA['scat']=='의류건조기')]"
   ]
  },
  {
   "cell_type": "code",
   "execution_count": null,
   "metadata": {},
   "outputs": [],
   "source": [
    "plt.figure(figsize=(12,5))\n",
    "plt.xticks(rotation=90)\n",
    "sns.barplot(data=buy18_EA_T8, x='scat', hue='sex', y='qty', estimator=np.sum)"
   ]
  },
  {
   "cell_type": "code",
   "execution_count": null,
   "metadata": {},
   "outputs": [],
   "source": []
  },
  {
   "cell_type": "code",
   "execution_count": null,
   "metadata": {
    "scrolled": false
   },
   "outputs": [],
   "source": [
    "# 시계열 (2018 전체)\n",
    "date3=buy2018_EA.groupby(by='date').sum()\n",
    "plt.figure(figsize=(20,10))\n",
    "plt.plot(date3['qty'])\n",
    "plt.show()"
   ]
  },
  {
   "cell_type": "markdown",
   "metadata": {},
   "source": [
    "#### __2019년__"
   ]
  },
  {
   "cell_type": "code",
   "execution_count": null,
   "metadata": {},
   "outputs": [],
   "source": [
    "# 냉난방만 추출\n",
    "buy2019_EA=buy2019[(buy2019['scat']=='냉난방가전')]"
   ]
  },
  {
   "cell_type": "code",
   "execution_count": null,
   "metadata": {},
   "outputs": [],
   "source": [
    "#성별분포\n",
    "sns.countplot(buy2019_EA['sex'])"
   ]
  },
  {
   "cell_type": "code",
   "execution_count": null,
   "metadata": {},
   "outputs": [],
   "source": [
    "# 시계열 2019\n",
    "date4=buy2019.groupby(by='date')['qty'].sum()\n",
    "plt.figure(figsize=(20,10))\n",
    "plt.plot(date4)\n",
    "plt.show()"
   ]
  },
  {
   "cell_type": "code",
   "execution_count": null,
   "metadata": {},
   "outputs": [],
   "source": []
  },
  {
   "cell_type": "markdown",
   "metadata": {},
   "source": [
    "### __2-3. 식품 카테고리__"
   ]
  },
  {
   "cell_type": "code",
   "execution_count": null,
   "metadata": {},
   "outputs": [],
   "source": [
    "buy2018_f=buy2018[buy2018[\"bcat\"]==\"식품\"]\n",
    "buy2019_f=buy2019[buy2019[\"bcat\"]==\"식품\"]\n",
    "sns2018_f=sns2018[sns2018[\"bcat\"]==\"식품\"]\n",
    "sns2019_f=sns2019[sns2019[\"bcat\"]==\"식품\"]\n",
    "\n",
    "buy2018_f=buy2018_f.reset_index(drop=True)\n",
    "buy2019_f=buy2019_f.reset_index(drop=True)\n",
    "sns2018_f=sns2018_f.reset_index(drop=True)\n",
    "sns2019_f=sns2019_f.reset_index(drop=True)"
   ]
  },
  {
   "cell_type": "markdown",
   "metadata": {
    "collapsed": true
   },
   "source": [
    "#### 2018년"
   ]
  },
  {
   "cell_type": "code",
   "execution_count": null,
   "metadata": {
    "scrolled": false
   },
   "outputs": [],
   "source": [
    "# 시계열 (2018 전체)\n",
    "f_18=buy2018_f.groupby(by='date').sum()\n",
    "plt.figure(figsize=(20,10))\n",
    "plt.plot(f_18['qty'])\n",
    "plt.show()"
   ]
  },
  {
   "cell_type": "code",
   "execution_count": null,
   "metadata": {},
   "outputs": [],
   "source": [
    "sns.countplot(buy2018_f['sex'])"
   ]
  },
  {
   "cell_type": "code",
   "execution_count": null,
   "metadata": {},
   "outputs": [],
   "source": [
    "sns.countplot(buy2018_f['age'])"
   ]
  },
  {
   "cell_type": "code",
   "execution_count": null,
   "metadata": {
    "scrolled": true
   },
   "outputs": [],
   "source": [
    "buy2018_f.scat.value_counts().sort_values(ascending=False)[:10]"
   ]
  },
  {
   "cell_type": "code",
   "execution_count": null,
   "metadata": {},
   "outputs": [],
   "source": [
    "f_top10=buy2018_f[(buy2018_f['scat']=='두유')|\n",
    "                  (buy2018_f['scat']=='쌀')|\n",
    "                  (buy2018_f['scat']=='생수')|\n",
    "                  (buy2018_f['scat']=='인스턴트커피')|\n",
    "                  (buy2018_f['scat']=='비타민')|\n",
    "                  (buy2018_f['scat']=='회')|\n",
    "                  (buy2018_f['scat']=='한방 분말/환제품')|\n",
    "                  (buy2018_f['scat']=='홍삼액/홍삼정')|\n",
    "                  (buy2018_f['scat']=='프로바이오틱스')|\n",
    "                  (buy2018_f['scat']=='탄산음료')]"
   ]
  },
  {
   "cell_type": "code",
   "execution_count": null,
   "metadata": {
    "scrolled": false
   },
   "outputs": [],
   "source": [
    "plt.figure(figsize=(10,5))\n",
    "plt.xticks(rotation=90)\n",
    "sns.barplot(data=f_top10, x='scat', hue='sex', y='qty', estimator=np.sum)"
   ]
  },
  {
   "cell_type": "code",
   "execution_count": null,
   "metadata": {},
   "outputs": [],
   "source": [
    "f_top10_gb=f_top10.groupby(['date','scat'])['qty'].sum()\n",
    "f_top10_gb=f_top10_gb.reset_index()"
   ]
  },
  {
   "cell_type": "code",
   "execution_count": null,
   "metadata": {
    "scrolled": true
   },
   "outputs": [],
   "source": [
    "plt.figure(figsize=(10,5))\n",
    "for cat in f_top10_gb[\"scat\"].unique():\n",
    "    d_ = f_top10_gb[(f_top10_gb[\"scat\"]==cat)]\n",
    "    plt.plot(d_[\"date\"], d_[\"qty\"], \"-\", label=str(cat), alpha=.8)\n",
    "plt.grid()\n",
    "plt.legend(bbox_to_anchor=(1.15, 1),loc='upper right', fontsize='xx-small')\n",
    "plt.xticks(rotation=90)\n",
    "plt.show()"
   ]
  },
  {
   "cell_type": "markdown",
   "metadata": {
    "collapsed": true
   },
   "source": [
    "#### 2019년"
   ]
  },
  {
   "cell_type": "code",
   "execution_count": null,
   "metadata": {
    "scrolled": false
   },
   "outputs": [],
   "source": [
    "# 시계열 (2018 전체)\n",
    "f_19=buy2019_f.groupby(by='date').sum()\n",
    "plt.figure(figsize=(20,10))\n",
    "plt.plot(f_19['qty'])\n",
    "plt.show()"
   ]
  },
  {
   "cell_type": "code",
   "execution_count": null,
   "metadata": {},
   "outputs": [],
   "source": [
    "sns.countplot(buy2019_f['sex'])"
   ]
  },
  {
   "cell_type": "code",
   "execution_count": null,
   "metadata": {},
   "outputs": [],
   "source": [
    "sns.countplot(buy2019_f['age'])"
   ]
  },
  {
   "cell_type": "code",
   "execution_count": null,
   "metadata": {
    "scrolled": true
   },
   "outputs": [],
   "source": [
    "buy2019_f.scat.value_counts().sort_values(ascending=False)[:10]"
   ]
  },
  {
   "cell_type": "code",
   "execution_count": null,
   "metadata": {},
   "outputs": [],
   "source": [
    "f_top10=buy2019_f[(buy2019_f['scat']=='원두커피')|\n",
    "                  (buy2019_f['scat']=='루테인/눈 영양제')|\n",
    "                  (buy2019_f['scat']=='프로바이오틱스')|\n",
    "                  (buy2019_f['scat']=='커피음료')|\n",
    "                  (buy2019_f['scat']=='두유')|\n",
    "                  (buy2019_f['scat']=='비타민')|\n",
    "                  (buy2019_f['scat']=='인스턴트커피')|\n",
    "                  (buy2019_f['scat']=='생수')|\n",
    "                  (buy2019_f['scat']=='한방 분말/환제품')|\n",
    "                  (buy2019_f['scat']=='흰우유')]"
   ]
  },
  {
   "cell_type": "code",
   "execution_count": null,
   "metadata": {
    "scrolled": false
   },
   "outputs": [],
   "source": [
    "plt.figure(figsize=(10,5))\n",
    "plt.xticks(rotation=90)\n",
    "sns.barplot(data=f_top10, x='scat', hue='sex', y='qty', estimator=np.sum)"
   ]
  },
  {
   "cell_type": "code",
   "execution_count": null,
   "metadata": {},
   "outputs": [],
   "source": [
    "f_top10_gb=f_top10.groupby(['date','scat'])['qty'].sum()\n",
    "f_top10_gb=f_top10_gb.reset_index()"
   ]
  },
  {
   "cell_type": "code",
   "execution_count": null,
   "metadata": {
    "scrolled": true
   },
   "outputs": [],
   "source": [
    "plt.figure(figsize=(10,5))\n",
    "for cat in f_top10_gb[\"scat\"].unique():\n",
    "    d_ = f_top10_gb[(f_top10_gb[\"scat\"]==cat)]\n",
    "    plt.plot(d_[\"date\"], d_[\"qty\"], \"-\", label=str(cat), alpha=.8)\n",
    "plt.grid()\n",
    "plt.legend(bbox_to_anchor=(1.15, 1),loc='upper right', fontsize='xx-small')\n",
    "plt.xticks(rotation=90)\n",
    "plt.show()"
   ]
  },
  {
   "cell_type": "code",
   "execution_count": null,
   "metadata": {},
   "outputs": [],
   "source": []
  },
  {
   "cell_type": "code",
   "execution_count": null,
   "metadata": {},
   "outputs": [],
   "source": []
  },
  {
   "cell_type": "code",
   "execution_count": null,
   "metadata": {},
   "outputs": [],
   "source": []
  },
  {
   "cell_type": "code",
   "execution_count": null,
   "metadata": {},
   "outputs": [],
   "source": []
  },
  {
   "cell_type": "markdown",
   "metadata": {},
   "source": [
    "# 여기부터 실행하시면 될거예요"
   ]
  },
  {
   "cell_type": "code",
   "execution_count": null,
   "metadata": {},
   "outputs": [],
   "source": [
    "import numpy as np\n",
    "import pandas as pd\n",
    "\n",
    "%matplotlib inline\n",
    "import matplotlib.pyplot as plt\n",
    "import seaborn as sns\n",
    "\n",
    "\n",
    "from datetime import datetime\n",
    "from sklearn.preprocessing import MinMaxScaler"
   ]
  },
  {
   "cell_type": "code",
   "execution_count": null,
   "metadata": {},
   "outputs": [],
   "source": [
    "# 그래프 한글 폰트 설정 (한번 돌린 후 런타임 다시시작하고 다시 돌려야 제대로 나옴)\n",
    "\n",
    "import matplotlib as mpl\n",
    "import matplotlib.pyplot as plt\n",
    "import matplotlib.font_manager as fm\n",
    "\n",
    "%config InlineBackend.figure_format = 'retina'\n",
    "!apt -qq -y install fonts-nanum\n",
    "\n",
    "fontpath =  '/usr/share/fonts/un-core/UnDotum.ttf',\n",
    "font = fm.FontProperties(fname=fontpath, size=9)\n",
    "plt.rc('font', family='UnDotum') \n",
    "mpl.font_manager._rebuild()\n",
    "\n",
    "from IPython.display import set_matplotlib_formats\n",
    "#폰트 선명하게 보이게 하기 위해\n",
    "set_matplotlib_formats('retina')\n",
    "\n",
    "## Test\n",
    "plt.figure(figsize=(2,2))\n",
    "plt.text(0.3, 0.3, '한글 폰트 테스트', size=15)\n",
    "plt.show()"
   ]
  },
  {
   "cell_type": "code",
   "execution_count": null,
   "metadata": {},
   "outputs": [],
   "source": [
    "from sklearn.ensemble import RandomForestRegressor\n",
    "from sklearn.metrics import mean_squared_error\n",
    "import warnings\n",
    "warnings.filterwarnings('ignore')\n",
    "from sklearn.model_selection import train_test_split\n",
    "from sklearn.preprocessing import MinMaxScaler\n",
    "from sklearn.model_selection import cross_val_score\n",
    "from sklearn.model_selection import GridSearchCV"
   ]
  },
  {
   "cell_type": "code",
   "execution_count": null,
   "metadata": {},
   "outputs": [],
   "source": [
    "buy2018_1 = pd.read_csv(\"buy2018_1.csv\")\n",
    "buy2018_2 = pd.read_csv(\"buy2018_2.csv\")\n",
    "buy2019_1 = pd.read_csv(\"buy2019_1.csv\")\n",
    "buy2019_2 = pd.read_csv(\"buy2019_2.csv\")\n",
    "\n",
    "sns2018_1 = pd.read_csv(\"sns2018_1.csv\")\n",
    "sns2018_2 = pd.read_csv(\"sns2018_2.csv\")\n",
    "sns2019_1 = pd.read_csv(\"sns2019_1.csv\")\n",
    "sns2019_2 = pd.read_csv(\"sns2019_2.csv\")\n",
    "\n",
    "buy2018_1=pd.DataFrame(buy2018_1)\n",
    "buy2018_2=pd.DataFrame(buy2018_2)\n",
    "buy2019_1=pd.DataFrame(buy2019_1)\n",
    "buy2019_2=pd.DataFrame(buy2019_2)\n",
    "\n",
    "sns2018_1=pd.DataFrame(sns2018_1)\n",
    "sns2018_2=pd.DataFrame(sns2018_2)\n",
    "sns2019_1=pd.DataFrame(sns2019_1)\n",
    "sns2019_2=pd.DataFrame(sns2019_2)"
   ]
  },
  {
   "cell_type": "code",
   "execution_count": null,
   "metadata": {},
   "outputs": [],
   "source": [
    "buy2018_1=buy2018_1.drop(\"Unnamed: 0\", axis=1)\n",
    "buy2018_1.columns = ['date', 'sex', 'age', 'bcat', 'scat', 'qty']\n",
    "\n",
    "buy2018_2=buy2018_2.drop(\"Unnamed: 0\", axis=1)\n",
    "buy2018_2.columns = ['date', 'sex', 'age', 'bcat', 'scat', 'qty']\n",
    "\n",
    "buy2019_1=buy2019_1.drop(\"Unnamed: 0\", axis=1)\n",
    "buy2019_1.columns = ['date', 'sex', 'age', 'bcat', 'scat', 'qty']\n",
    "\n",
    "buy2019_2=buy2019_2.drop(\"Unnamed: 0\", axis=1)\n",
    "buy2019_2.columns = ['date', 'sex', 'age', 'bcat', 'scat', 'qty']\n",
    "\n",
    "sns2018_1=sns2018_1.drop(\"Unnamed: 0\", axis=1)\n",
    "sns2018_1.columns = ['date', 'bcat', 'scat', 'cnt']\n",
    "\n",
    "sns2018_2=sns2018_2.drop(\"Unnamed: 0\", axis=1)\n",
    "sns2018_2.columns = ['date', 'bcat', 'scat', 'cnt']\n",
    "\n",
    "sns2019_1=sns2019_1.drop(\"Unnamed: 0\", axis=1)\n",
    "sns2019_1.columns = ['date', 'bcat', 'scat', 'cnt']\n",
    "\n",
    "sns2019_2=sns2019_2.drop(\"Unnamed: 0\", axis=1)\n",
    "sns2019_2.columns = ['date', 'bcat', 'scat', 'cnt']"
   ]
  },
  {
   "cell_type": "code",
   "execution_count": null,
   "metadata": {},
   "outputs": [],
   "source": [
    "buy2018 = pd.concat([buy2018_1,buy2018_2], axis=0)\n",
    "buy2019 = pd.concat([buy2019_1,buy2019_2], axis=0)\n",
    "\n",
    "buy2018=buy2018.reset_index(drop=True)\n",
    "buy2019=buy2019.reset_index(drop=True)\n",
    "\n",
    "sns2018 = pd.concat([sns2018_1,sns2018_2], axis=0)\n",
    "sns2019 = pd.concat([sns2019_1,sns2019_2], axis=0)\n",
    "\n",
    "sns2018=sns2018.reset_index(drop=True)\n",
    "sns2019=sns2019.reset_index(drop=True)"
   ]
  },
  {
   "cell_type": "code",
   "execution_count": null,
   "metadata": {},
   "outputs": [],
   "source": [
    "buy2018[\"date\"]=pd.to_datetime(buy2018[\"date\"],format='%Y%m%d')\n",
    "buy2019[\"date\"]=pd.to_datetime(buy2019[\"date\"],format='%Y%m%d')\n",
    "sns2018[\"date\"]=pd.to_datetime(sns2018[\"date\"],format='%Y%m%d')\n",
    "sns2019[\"date\"]=pd.to_datetime(sns2019[\"date\"],format='%Y%m%d')"
   ]
  },
  {
   "cell_type": "code",
   "execution_count": null,
   "metadata": {},
   "outputs": [],
   "source": [
    "weather18=pd.read_csv(\"weather18.csv\")\n",
    "weather19=pd.read_csv(\"weather19.csv\")\n"
   ]
  },
  {
   "cell_type": "markdown",
   "metadata": {},
   "source": [
    "## __3. 날씨가 구매에 영향을 미칠까__ "
   ]
  },
  {
   "cell_type": "markdown",
   "metadata": {},
   "source": [
    "### __3-1. 2018년도 구매량__"
   ]
  },
  {
   "cell_type": "code",
   "execution_count": null,
   "metadata": {},
   "outputs": [],
   "source": [
    "time1=buy2018.groupby(by='date')['qty'].sum()\n",
    "plt.figure(figsize=(20,10))\n",
    "plt.plot(time1)\n",
    "plt.show()"
   ]
  },
  {
   "cell_type": "markdown",
   "metadata": {},
   "source": [
    "### __3-1-1. 2018년도 전체 구매량__"
   ]
  },
  {
   "cell_type": "code",
   "execution_count": null,
   "metadata": {},
   "outputs": [],
   "source": [
    "b18_tot=buy2018.groupby([\"date\"])[\"qty\"].sum()\n",
    "s18_tot=sns2018.groupby([\"date\"])[\"cnt\"].sum()\n",
    "b18_tot=b18_tot.reset_index(drop=True)\n",
    "s18_tot=s18_tot.reset_index(drop=True)\n",
    "\n",
    "df18=pd.concat([b18_tot,s18_tot,weather18],axis=1)\n",
    "df18.columns = ['buy','sns','avg_ta','avg_rhm','avg_cl','rain']\n",
    "\n",
    "X18=df18[df18.columns[2:]]\n",
    "y18=df18[\"buy\"]"
   ]
  },
  {
   "cell_type": "code",
   "execution_count": null,
   "metadata": {},
   "outputs": [],
   "source": [
    "from sklearn.preprocessing import MinMaxScaler\n",
    "scaler=MinMaxScaler()\n",
    "X18_scaled=scaler.fit_transform(X18)\n",
    "y18_scaled=scaler.fit_transform(y18)"
   ]
  },
  {
   "cell_type": "markdown",
   "metadata": {},
   "source": [
    "#### Random Forest"
   ]
  },
  {
   "cell_type": "code",
   "execution_count": null,
   "metadata": {},
   "outputs": [],
   "source": [
    "X_train, X_test, y_train, y_test = train_test_split(X18_scaled,y18_scaled,test_size=0.2,random_state=0)"
   ]
  },
  {
   "cell_type": "code",
   "execution_count": null,
   "metadata": {},
   "outputs": [],
   "source": [
    "params={\n",
    "    'n_estimators':[500],\n",
    "    'max_depth':[6,8,10,12],\n",
    "    'min_samples_leaf':[8,12,18],\n",
    "    'min_samples_split':[8,16,20]\n",
    "}\n",
    "\n",
    "rf_reg=RandomForestRegressor(random_state=0,n_jobs=-1)\n",
    "grid_cv=GridSearchCV(rf_reg,param_grid=params, cv=2, n_jobs=-1)\n",
    "grid_cv.fit(X_train,y_train)\n",
    "\n",
    "print('최적 하이퍼 파라미터:\\n', grid_cv.best_params_)\n",
    "print('최고 예측 정확도:{0:.4f}'.format(grid_cv.best_score_))"
   ]
  },
  {
   "cell_type": "code",
   "execution_count": null,
   "metadata": {
    "scrolled": true
   },
   "outputs": [],
   "source": [
    "rf_rega=RandomForestRegressor(n_estimators=500, max_depth=6, min_samples_leaf=18, min_samples_split=8,random_state=0)\n",
    "rf_rega.fit(X_train, y_train)\n",
    "pred=rf_rega.predict(X_test)\n",
    "print(mean_squared_error(y_test,pred))"
   ]
  },
  {
   "cell_type": "code",
   "execution_count": null,
   "metadata": {},
   "outputs": [],
   "source": [
    "pd.Series(rf_rega.feature_importances_,index=X18.columns).sort_values(ascending=True).plot.barh()"
   ]
  },
  {
   "cell_type": "markdown",
   "metadata": {},
   "source": [
    "Random Forest 결과 : 2018년 뷰티 구매횟수는 평균 기온에 가장 큰 영향 받았다. "
   ]
  },
  {
   "cell_type": "markdown",
   "metadata": {},
   "source": [
    "#### 회귀"
   ]
  },
  {
   "cell_type": "markdown",
   "metadata": {
    "collapsed": true
   },
   "source": [
    "회귀를 위한 함수"
   ]
  },
  {
   "cell_type": "code",
   "execution_count": null,
   "metadata": {},
   "outputs": [],
   "source": [
    "from sklearn.metrics import mean_squared_error, mean_absolute_error\n",
    "\n",
    "def rmsle(y, pred):\n",
    "    log_y = np.log1p(y)\n",
    "    log_pred = np.log1p(pred)\n",
    "    squared_error = (log_y - log_pred) ** 2\n",
    "    rmsle = np.sqrt(np.mean(squared_error))\n",
    "    return rmsle\n",
    "\n",
    "def rmse(y,pred):\n",
    "    return np.sqrt(mean_squared_error(y,pred))\n",
    "\n",
    "def evaluate_regr(y,pred):\n",
    "    rmsle_val = rmsle(y,pred)\n",
    "    rmse_val = rmse(y,pred)\n",
    "    mse_val = mean_squared_error(y,pred)\n",
    "    # MAE 는 scikit learn의 mean_absolute_error() 로 계산\n",
    "    mae_val = mean_absolute_error(y,pred)\n",
    "    print('RMSLE: {0:.6f}, RMSE: {1:.6F}, MSE: {2:.6F}, MAE: {3:.6F}'.format(rmsle_val, rmse_val, mse_val, mae_val))\n",
    "    \n",
    "from sklearn.model_selection import train_test_split, GridSearchCV\n",
    "from sklearn.linear_model import LinearRegression, Ridge, Lasso"
   ]
  },
  {
   "cell_type": "code",
   "execution_count": null,
   "metadata": {},
   "outputs": [],
   "source": [
    "X_train, X_test, y_train, y_test = train_test_split(X18_scaled,y18_scaled,test_size=0.2,random_state=0)\n",
    "lr_reg=LinearRegression()\n",
    "lr_reg.fit(X_train,y_train)\n",
    "pred=lr_reg.predict(X_test)\n",
    "\n",
    "evaluate_regr(y_test, pred)"
   ]
  },
  {
   "cell_type": "code",
   "execution_count": null,
   "metadata": {},
   "outputs": [],
   "source": [
    "# 각피처의 회귀 계수값 시각화\n",
    "coef= pd.Series(lr_reg.coef_,index=X18.columns)\n",
    "coef_sort = coef.sort_values(ascending=False)\n",
    "sns.barplot(x=coef_sort.values, y=coef_sort.index)"
   ]
  },
  {
   "cell_type": "markdown",
   "metadata": {},
   "source": [
    "#### AdaBoost"
   ]
  },
  {
   "cell_type": "code",
   "execution_count": null,
   "metadata": {},
   "outputs": [],
   "source": [
    "from sklearn.ensemble import AdaBoostRegressor\n",
    "from sklearn.model_selection import GridSearchCV\n",
    "\n",
    "n_estimators=[50,80,100,200]\n",
    "learning_rate=[0.05,0.1,0.5]\n",
    "\n",
    "param_grid = {\"n_estimators\":n_estimators,\n",
    "              \"learning_rate\":learning_rate}\n",
    "          \n",
    "X_train, X_test, y_train, y_test = train_test_split(X18_scaled,y18_scaled,test_size=0.2,random_state=0)\n",
    "\n",
    "cv=GridSearchCV(estimator=AdaBoostRegressor(random_state=0),\n",
    "               param_grid=param_grid, verbose=True)\n",
    "cv.fit(X_train,y_train)\n",
    "\n",
    "print(\"GridSearchCV 최적 하이퍼 파라미터:\",cv.best_params_)\n",
    "print(\"GridSearchCV 최고 정확도\",cv.best_score_)\n",
    "print(\"GridSearchCV 최적 모형\",cv.best_estimator_)"
   ]
  },
  {
   "cell_type": "code",
   "execution_count": null,
   "metadata": {},
   "outputs": [],
   "source": [
    "model=cv.best_estimator_\n",
    "pd.Series(model.feature_importances_, df18.columns[2:]).sort_values(ascending=True).plot.barh(width=0.8)"
   ]
  },
  {
   "cell_type": "code",
   "execution_count": null,
   "metadata": {
    "scrolled": true
   },
   "outputs": [],
   "source": [
    "from sklearn.metrics import mean_squared_error\n",
    "\n",
    "model.fit(X18_train, y18_train)\n",
    "pred=model.predict(X18_test)\n",
    "\n",
    "mean_squared_error(pred,y18_test)"
   ]
  },
  {
   "cell_type": "markdown",
   "metadata": {},
   "source": [
    "### __3-1-2. 2018년도 뷰티 구매량__ "
   ]
  },
  {
   "cell_type": "code",
   "execution_count": null,
   "metadata": {},
   "outputs": [],
   "source": [
    "buy2018_b=buy2018[buy2018[\"bcat\"]==\"뷰티\"]\n",
    "sns2018_b=sns2018[sns2018[\"bcat\"]==\"뷰티\"]\n",
    "\n",
    "buy2018_b=buy2018_b.reset_index(drop=True)\n",
    "sns2018_b=sns2018_b.reset_index(drop=True)\n",
    "\n",
    "b18_tot=buy2018_b.groupby([\"date\"])[\"qty\"].sum()\n",
    "s18_tot=sns2018_b.groupby([\"date\"])[\"cnt\"].sum()\n",
    "b18_tot=b18_tot.reset_index(drop=True)\n",
    "s18_tot=s18_tot.reset_index(drop=True)\n",
    "\n",
    "df18=pd.concat([b18_tot,s18_tot,weather18],axis=1)\n",
    "df18.columns = ['buy','sns','avg_ta','avg_rhm','avg_cl','rain']\n",
    "\n",
    "X18=df18[df18.columns[2:]]\n",
    "y18=df18[\"buy\"]"
   ]
  },
  {
   "cell_type": "code",
   "execution_count": null,
   "metadata": {},
   "outputs": [],
   "source": [
    "from sklearn.preprocessing import MinMaxScaler\n",
    "scaler=MinMaxScaler()\n",
    "X18_scaled=scaler.fit_transform(X18)\n",
    "y18_scaled=scaler.fit_transform(y18)"
   ]
  },
  {
   "cell_type": "markdown",
   "metadata": {},
   "source": [
    "#### Random Forest"
   ]
  },
  {
   "cell_type": "code",
   "execution_count": null,
   "metadata": {},
   "outputs": [],
   "source": [
    "X_train, X_test, y_train, y_test = train_test_split(X18_scaled,y18_scaled,test_size=0.2,random_state=0)"
   ]
  },
  {
   "cell_type": "code",
   "execution_count": null,
   "metadata": {},
   "outputs": [],
   "source": [
    "params={\n",
    "    'n_estimators':[500],\n",
    "    'max_depth':[6,8,10,12],\n",
    "    'min_samples_leaf':[8,12,18],\n",
    "    'min_samples_split':[8,16,20]\n",
    "}\n",
    "\n",
    "rf_reg=RandomForestRegressor(random_state=0,n_jobs=-1)\n",
    "grid_cv=GridSearchCV(rf_reg,param_grid=params, cv=2, n_jobs=-1)\n",
    "grid_cv.fit(X_train,y_train)\n",
    "\n",
    "print('최적 하이퍼 파라미터:\\n', grid_cv.best_params_)\n",
    "print('최고 예측 정확도:{0:.4f}'.format(grid_cv.best_score_))"
   ]
  },
  {
   "cell_type": "code",
   "execution_count": null,
   "metadata": {},
   "outputs": [],
   "source": [
    "rf_reg5=RandomForestRegressor(n_estimators=500, max_depth=6, min_samples_leaf=18, min_samples_split=8,random_state=0)\n",
    "rf_reg5.fit(X_train, y_train)\n",
    "pred=rf_reg5.predict(X_test)\n",
    "print(mean_squared_error(y_test,pred))"
   ]
  },
  {
   "cell_type": "code",
   "execution_count": null,
   "metadata": {},
   "outputs": [],
   "source": [
    "pd.Series(rf_reg5.feature_importances_,index=X18.columns).sort_values(ascending=True).plot.barh()"
   ]
  },
  {
   "cell_type": "markdown",
   "metadata": {},
   "source": [
    "Random Forest 결과 : 2018년 뷰티 구매횟수는 평균 기온에 가장 큰 영향 받았다. "
   ]
  },
  {
   "cell_type": "markdown",
   "metadata": {
    "collapsed": true
   },
   "source": [
    "#### 회귀"
   ]
  },
  {
   "cell_type": "code",
   "execution_count": null,
   "metadata": {},
   "outputs": [],
   "source": [
    "X_train, X_test,y_train, y_test= train_test_split(X18_scaled, y18_scaled, test_size=0.3, random_state=0)\n",
    "lr_reg=LinearRegression()\n",
    "lr_reg.fit(X_train,y_train)\n",
    "pred=lr_reg.predict(X_test)\n",
    "\n",
    "evaluate_regr(y_test, pred)"
   ]
  },
  {
   "cell_type": "code",
   "execution_count": null,
   "metadata": {},
   "outputs": [],
   "source": [
    "# 각피처의 회귀 계수값 시각화\n",
    "coef= pd.Series(lr_reg.coef_,index=X18.columns)\n",
    "coef_sort = coef.sort_values(ascending=False)\n",
    "sns.barplot(x=coef_sort.values, y=coef_sort.index)"
   ]
  },
  {
   "cell_type": "markdown",
   "metadata": {},
   "source": [
    "#### AdaBoost"
   ]
  },
  {
   "cell_type": "code",
   "execution_count": null,
   "metadata": {},
   "outputs": [],
   "source": [
    "from sklearn.ensemble import AdaBoostRegressor\n",
    "from sklearn.model_selection import GridSearchCV\n",
    "\n",
    "print(\"GridSearchCV 최적 하이퍼 파라미터:\",cv.best_params_)\n",
    "print(\"GridSearchCV 최고 정확도\",cv.best_score_)\n",
    "print(\"GridSearchCV 최적 모형\",cv.best_estimator_)\n",
    "\n",
    "n_estimators=[50,80,100,200]\n",
    "learning_rate=[0.05,0.1,0.5]\n",
    "\n",
    "param_grid = {\"n_estimators\":n_estimators,\n",
    "              \"learning_rate\":learning_rate}\n",
    "          \n",
    "X_train, X_test,y_train, y_test= train_test_split(X18_scaled, y18_scaled, test_size=0.3, random_state=0)\n",
    "\n",
    "cv=GridSearchCV(estimator=AdaBoostRegressor(random_state=0),\n",
    "               param_grid=param_grid, verbose=True)\n",
    "cv.fit(X_train,y_train)\n",
    "\n",
    "print(\"GridSearchCV 최적 하이퍼 파라미터:\",cv.best_params_)\n",
    "print(\"GridSearchCV 최고 정확도\",cv.best_score_)\n",
    "print(\"GridSearchCV 최적 모형\",cv.best_estimator_)"
   ]
  },
  {
   "cell_type": "code",
   "execution_count": null,
   "metadata": {},
   "outputs": [],
   "source": [
    "model=cv.best_estimator_\n",
    "pd.Series(model.feature_importances_, df18.columns[2:]).sort_values(ascending=True).plot.barh(width=0.8)"
   ]
  },
  {
   "cell_type": "code",
   "execution_count": null,
   "metadata": {
    "scrolled": true
   },
   "outputs": [],
   "source": [
    "from sklearn.metrics import mean_squared_error\n",
    "\n",
    "model.fit(X18_train, y18_train)\n",
    "pred=model.predict(X18_test)\n",
    "\n",
    "mean_squared_error(pred,y18_test)"
   ]
  },
  {
   "cell_type": "code",
   "execution_count": null,
   "metadata": {},
   "outputs": [],
   "source": []
  },
  {
   "cell_type": "markdown",
   "metadata": {},
   "source": [
    "### __3-1-3. 2018년도 냉난방가전 구매량__"
   ]
  },
  {
   "cell_type": "code",
   "execution_count": null,
   "metadata": {},
   "outputs": [],
   "source": [
    "buy2018_n=buy2018[buy2018[\"bcat\"]==\"냉난방가전\"]\n",
    "sns2018_n=sns2018[sns2018[\"bcat\"]==\"냉난방가전\"]\n",
    "buy2018_n=buy2018_n.reset_index(drop=True)\n",
    "sns2018_n=sns2018_n.reset_index(drop=True)\n",
    "b18_tot=buy2018_n.groupby([\"date\"])[\"qty\"].sum()\n",
    "s18_tot=sns2018_n.groupby([\"date\"])[\"cnt\"].sum()\n",
    "b18_tot=b18_tot.reset_index(drop=True)\n",
    "s18_tot=s18_tot.reset_index(drop=True)\n",
    "\n",
    "df18=pd.concat([b18_tot,s18_tot,weather18],axis=1)\n",
    "df18.columns = ['buy','sns','avg_ta','avg_rhm','avg_cl','rain']\n",
    "\n",
    "X18=df18[df18.columns[2:]]\n",
    "y18=df18[\"buy\"]"
   ]
  },
  {
   "cell_type": "code",
   "execution_count": null,
   "metadata": {},
   "outputs": [],
   "source": [
    "from sklearn.preprocessing import MinMaxScaler\n",
    "scaler=MinMaxScaler()\n",
    "X18_scaled=scaler.fit_transform(X18)\n",
    "y18_scaled=scaler.fit_transform(y18)"
   ]
  },
  {
   "cell_type": "markdown",
   "metadata": {},
   "source": [
    "#### Random Forest"
   ]
  },
  {
   "cell_type": "code",
   "execution_count": null,
   "metadata": {},
   "outputs": [],
   "source": [
    "X_train, X_test, y_train, y_test = train_test_split(X18_scaled,y18_scaled,test_size=0.2,random_state=0)"
   ]
  },
  {
   "cell_type": "code",
   "execution_count": null,
   "metadata": {},
   "outputs": [],
   "source": [
    "params={\n",
    "    'n_estimators':[500],\n",
    "    'max_depth':[6,8,10,12],\n",
    "    'min_samples_leaf':[8,12,18],\n",
    "    'min_samples_split':[8,16,20]\n",
    "}\n",
    "\n",
    "rf_reg=RandomForestRegressor(random_state=0,n_jobs=-1)\n",
    "grid_cv=GridSearchCV(rf_reg,param_grid=params, cv=2, n_jobs=-1)\n",
    "grid_cv.fit(X_train,y_train)\n",
    "\n",
    "print('최적 하이퍼 파라미터:\\n', grid_cv.best_params_)\n",
    "print('최고 예측 정확도:{0:.4f}'.format(grid_cv.best_score_))"
   ]
  },
  {
   "cell_type": "code",
   "execution_count": null,
   "metadata": {},
   "outputs": [],
   "source": [
    "rf_reg1=RandomForestRegressor(n_estimators=500, max_depth=6, min_samples_leaf=18, min_samples_split=8,random_state=0)\n",
    "rf_reg1.fit(X_train, y_train)\n",
    "pred=rf_reg1.predict(X_test)\n",
    "print(mean_squared_error(y_test,pred))"
   ]
  },
  {
   "cell_type": "code",
   "execution_count": null,
   "metadata": {},
   "outputs": [],
   "source": [
    "pd.Series(rf_reg1.feature_importances_,index=X18.columns).sort_values(ascending=True).plot.barh()"
   ]
  },
  {
   "cell_type": "markdown",
   "metadata": {},
   "source": [
    "Random Forest 결과: 평균기온이 냉난방 구매횟수에 가장 큰 영향을 미친다. "
   ]
  },
  {
   "cell_type": "markdown",
   "metadata": {
    "collapsed": true
   },
   "source": [
    "#### 회귀"
   ]
  },
  {
   "cell_type": "code",
   "execution_count": null,
   "metadata": {},
   "outputs": [],
   "source": [
    "X_train, X_test,y_train, y_test= train_test_split(X18_scaled, y18_scaled, test_size=0.3, random_state=0)\n",
    "lr_reg=LinearRegression()\n",
    "lr_reg.fit(X_train,y_train)\n",
    "pred=lr_reg.predict(X_test)\n",
    "\n",
    "evaluate_regr(y_test, pred)"
   ]
  },
  {
   "cell_type": "code",
   "execution_count": null,
   "metadata": {
    "scrolled": true
   },
   "outputs": [],
   "source": [
    "# 각피처의 회귀 계수값 시각화\n",
    "coef= pd.Series(lr_reg.coef_,index=X18.columns)\n",
    "coef_sort = coef.sort_values(ascending=False)\n",
    "sns.barplot(x=coef_sort.values, y=coef_sort.index)"
   ]
  },
  {
   "cell_type": "markdown",
   "metadata": {},
   "source": [
    "#### AdaBoost"
   ]
  },
  {
   "cell_type": "code",
   "execution_count": null,
   "metadata": {},
   "outputs": [],
   "source": [
    "from sklearn.ensemble import AdaBoostRegressor\n",
    "from sklearn.model_selection import GridSearchCV\n",
    "\n",
    "n_estimators=[50,80,100,200]\n",
    "learning_rate=[0.05,0.1,0.5]\n",
    "\n",
    "param_grid = {\"n_estimators\":n_estimators,\n",
    "              \"learning_rate\":learning_rate}\n",
    "          \n",
    "X_train, X_test, y_train, y_test = train_test_split(X18_scaled,y18_scaled,test_size=0.2,random_state=0)          \n",
    "          \n",
    "cv=GridSearchCV(estimator=AdaBoostRegressor(random_state=0),\n",
    "               param_grid=param_grid, verbose=True)\n",
    "cv.fit(X_train,y_train)\n",
    "\n",
    "print(\"GridSearchCV 최적 하이퍼 파라미터:\",cv.best_params_)\n",
    "print(\"GridSearchCV 최고 정확도\",cv.best_score_)\n",
    "print(\"GridSearchCV 최적 모형\",cv.best_estimator_)"
   ]
  },
  {
   "cell_type": "code",
   "execution_count": null,
   "metadata": {},
   "outputs": [],
   "source": [
    "model=cv.best_estimator_\n",
    "pd.Series(model.feature_importances_, df18.columns[2:]).sort_values(ascending=True).plot.barh(width=0.8)"
   ]
  },
  {
   "cell_type": "code",
   "execution_count": null,
   "metadata": {
    "scrolled": true
   },
   "outputs": [],
   "source": [
    "from sklearn.metrics import mean_squared_error\n",
    "\n",
    "model.fit(X18_train, y18_train)\n",
    "pred=model.predict(X18_test)\n",
    "\n",
    "mean_squared_error(pred,y18_test)"
   ]
  },
  {
   "cell_type": "markdown",
   "metadata": {},
   "source": [
    "### __3-1-4. 2018년도 식품 구매량__"
   ]
  },
  {
   "cell_type": "code",
   "execution_count": null,
   "metadata": {},
   "outputs": [],
   "source": [
    "buy2018_f=buy2018[buy2018[\"bcat\"]==\"식품\"]\n",
    "sns2018_f=sns2018[sns2018[\"bcat\"]==\"식품\"]\n",
    "buy2018_f=buy2018_f.reset_index(drop=True)\n",
    "sns2018_f=sns2018_f.reset_index(drop=True)\n",
    "b18_tot=buy2018_f.groupby([\"date\"])[\"qty\"].sum()\n",
    "s18_tot=sns2018_f.groupby([\"date\"])[\"cnt\"].sum()\n",
    "b18_tot=b18_tot.reset_index(drop=True)\n",
    "s18_tot=s18_tot.reset_index(drop=True)\n",
    "\n",
    "df18=pd.concat([b18_tot,s18_tot,weather18],axis=1)\n",
    "df18.columns = ['buy','sns','avg_ta','avg_rhm','avg_cl','rain']\n",
    "\n",
    "X18=df18[df18.columns[2:]]\n",
    "y18=df18[\"buy\"]"
   ]
  },
  {
   "cell_type": "code",
   "execution_count": null,
   "metadata": {},
   "outputs": [],
   "source": [
    "from sklearn.preprocessing import MinMaxScaler\n",
    "scaler=MinMaxScaler()\n",
    "X18_scaled=scaler.fit_transform(X18)\n",
    "y18_scaled=scaler.fit_transform(y18)"
   ]
  },
  {
   "cell_type": "markdown",
   "metadata": {},
   "source": [
    "#### RandomForest"
   ]
  },
  {
   "cell_type": "code",
   "execution_count": null,
   "metadata": {},
   "outputs": [],
   "source": [
    "X_train, X_test, y_train, y_test = train_test_split(X18_scaled,y18_scaled,test_size=0.2,random_state=0)"
   ]
  },
  {
   "cell_type": "code",
   "execution_count": null,
   "metadata": {},
   "outputs": [],
   "source": [
    "params={\n",
    "    'n_estimators':[500],\n",
    "    'max_depth':[6,8,10,12],\n",
    "    'min_samples_leaf':[8,12,18],\n",
    "    'min_samples_split':[8,16,20]\n",
    "}\n",
    "\n",
    "rf_reg=RandomForestRegressor(random_state=0,n_jobs=-1)\n",
    "grid_cv=GridSearchCV(rf_reg,param_grid=params, cv=2, n_jobs=-1)\n",
    "grid_cv.fit(X_train,y_train)\n",
    "\n",
    "print('최적 하이퍼 파라미터:\\n', grid_cv.best_params_)\n",
    "print('최고 예측 정확도:{0:.4f}'.format(grid_cv.best_score_))"
   ]
  },
  {
   "cell_type": "code",
   "execution_count": null,
   "metadata": {},
   "outputs": [],
   "source": [
    "rf_regx=RandomForestRegressor(n_estimators=500, max_depth=6, min_samples_leaf=12, min_samples_split=8,random_state=0)\n",
    "rf_regx.fit(X_train, y_train)\n",
    "pred=rf_regx.predict(X_test)\n",
    "print(mean_squared_error(y_test,pred))"
   ]
  },
  {
   "cell_type": "code",
   "execution_count": null,
   "metadata": {},
   "outputs": [],
   "source": [
    "pd.Series(rf_regx.feature_importances_,index=X18.columns).sort_values(ascending=True).plot.barh()"
   ]
  },
  {
   "cell_type": "markdown",
   "metadata": {},
   "source": [
    "#### 회귀"
   ]
  },
  {
   "cell_type": "code",
   "execution_count": null,
   "metadata": {},
   "outputs": [],
   "source": [
    "X_train, X_test,y_train, y_test= train_test_split(X18_scaled, y18_scaled, test_size=0.3, random_state=0)\n",
    "lr_reg=LinearRegression()\n",
    "lr_reg.fit(X_train,y_train)\n",
    "pred=lr_reg.predict(X_test)\n",
    "\n",
    "evaluate_regr(y_test, pred)"
   ]
  },
  {
   "cell_type": "code",
   "execution_count": null,
   "metadata": {
    "scrolled": true
   },
   "outputs": [],
   "source": [
    "# 각피처의 회귀 계수값 시각화\n",
    "coef= pd.Series(lr_reg.coef_,index=X18.columns)\n",
    "coef_sort = coef.sort_values(ascending=False)\n",
    "sns.barplot(x=coef_sort.values, y=coef_sort.index)"
   ]
  },
  {
   "cell_type": "markdown",
   "metadata": {},
   "source": [
    "#### AdaBoost"
   ]
  },
  {
   "cell_type": "code",
   "execution_count": null,
   "metadata": {},
   "outputs": [],
   "source": [
    "from sklearn.ensemble import AdaBoostRegressor\n",
    "from sklearn.model_selection import GridSearchCV\n",
    "\n",
    "n_estimators=[50,80,100,200]\n",
    "learning_rate=[0.05,0.1,0.5]\n",
    "\n",
    "param_grid = {\"n_estimators\":n_estimators,\n",
    "              \"learning_rate\":learning_rate}\n",
    "          \n",
    "X_train, X_test, y_train, y_test = train_test_split(X18_scaled,y18_scaled,test_size=0.2,random_state=0)\n",
    "\n",
    "cv=GridSearchCV(estimator=AdaBoostRegressor(random_state=0),\n",
    "               param_grid=param_grid, verbose=True)\n",
    "cv.fit(X_train,y_train)\n",
    "\n",
    "print(\"GridSearchCV 최적 하이퍼 파라미터:\",cv.best_params_)\n",
    "print(\"GridSearchCV 최고 정확도\",cv.best_score_)\n",
    "print(\"GridSearchCV 최적 모형\",cv.best_estimator_)"
   ]
  },
  {
   "cell_type": "code",
   "execution_count": null,
   "metadata": {},
   "outputs": [],
   "source": [
    "model=cv.best_estimator_\n",
    "pd.Series(model.feature_importances_, df18.columns[2:]).sort_values(ascending=True).plot.barh(width=0.8)"
   ]
  },
  {
   "cell_type": "code",
   "execution_count": null,
   "metadata": {
    "scrolled": true
   },
   "outputs": [],
   "source": [
    "from sklearn.metrics import mean_squared_error\n",
    "\n",
    "model.fit(X18_train, y18_train)\n",
    "pred=model.predict(X18_test)\n",
    "\n",
    "mean_squared_error(pred,y18_test)"
   ]
  },
  {
   "cell_type": "code",
   "execution_count": null,
   "metadata": {},
   "outputs": [],
   "source": []
  },
  {
   "cell_type": "markdown",
   "metadata": {},
   "source": [
    "### __3-2. 2019년도 구매량__"
   ]
  },
  {
   "cell_type": "code",
   "execution_count": null,
   "metadata": {},
   "outputs": [],
   "source": [
    "time2=buy2019.groupby(by='date')['qty'].sum()\n",
    "plt.figure(figsize=(20,10))\n",
    "plt.plot(time2)\n",
    "plt.show()"
   ]
  },
  {
   "cell_type": "markdown",
   "metadata": {},
   "source": [
    "### __3-2-1. 2019년도 전체 구매량__"
   ]
  },
  {
   "cell_type": "code",
   "execution_count": null,
   "metadata": {},
   "outputs": [],
   "source": [
    "b19_tot=buy2019.groupby([\"date\"])[\"qty\"].sum()\n",
    "s19_tot=sns2019.groupby([\"date\"])[\"cnt\"].sum()\n",
    "b19_tot=b19_tot.reset_index(drop=True)\n",
    "s19_tot=s19_tot.reset_index(drop=True)\n",
    "\n",
    "df19=pd.concat([b19_tot,s19_tot,weather19],axis=1)\n",
    "df19.columns = ['buy','sns','avg_ta','avg_rhm','avg_cl','rain']\n",
    "\n",
    "from sklearn.ensemble import AdaBoostRegressor\n",
    "from sklearn.preprocessing import MinMaxScaler\n",
    "from sklearn.model_selection import GridSearchCV\n",
    "\n",
    "X19=df19[df19.columns[2:]]\n",
    "y19=df19[\"buy\"]\n",
    "\n",
    "from sklearn.preprocessing import MinMaxScaler\n",
    "scaler=MinMaxScaler()\n",
    "X19_scaled=scaler.fit_transform(X19)\n",
    "y19_scaled=scaler.fit_transform(y19)"
   ]
  },
  {
   "cell_type": "markdown",
   "metadata": {},
   "source": [
    "#### Random Forest"
   ]
  },
  {
   "cell_type": "code",
   "execution_count": null,
   "metadata": {},
   "outputs": [],
   "source": [
    "X_train, X_test, y_train, y_test = train_test_split(X19_scaled,y19_scaled,test_size=0.2,random_state=0)"
   ]
  },
  {
   "cell_type": "code",
   "execution_count": null,
   "metadata": {},
   "outputs": [],
   "source": [
    "params={\n",
    "    'n_estimators':[500],\n",
    "    'max_depth':[6,8,10,12],\n",
    "    'min_samples_leaf':[8,12,18],\n",
    "    'min_samples_split':[8,16,20]\n",
    "}\n",
    "\n",
    "rf_reg=RandomForestRegressor(random_state=0,n_jobs=-1)\n",
    "grid_cv=GridSearchCV(rf_reg,param_grid=params, cv=2, n_jobs=-1)\n",
    "grid_cv.fit(X_train,y_train)\n",
    "\n",
    "print('최적 하이퍼 파라미터:\\n', grid_cv.best_params_)\n",
    "print('최고 예측 정확도:{0:.4f}'.format(grid_cv.best_score_))"
   ]
  },
  {
   "cell_type": "code",
   "execution_count": null,
   "metadata": {},
   "outputs": [],
   "source": [
    "rf_regc=RandomForestRegressor(n_estimators=500, max_depth=6, min_samples_leaf=12, min_samples_split=8,random_state=0)\n",
    "rf_regc.fit(X_train, y_train)\n",
    "pred=rf_regc.predict(X_test)\n",
    "print(mean_squared_error(y_test,pred))"
   ]
  },
  {
   "cell_type": "code",
   "execution_count": null,
   "metadata": {},
   "outputs": [],
   "source": [
    "pd.Series(rf_regc.feature_importances_,index=X19.columns).sort_values(ascending=True).plot.barh()"
   ]
  },
  {
   "cell_type": "markdown",
   "metadata": {},
   "source": [
    "Random Forest 결과: 2019년 구매횟수는 평균 상대습도에 가장 큰 영향을 받았다. "
   ]
  },
  {
   "cell_type": "markdown",
   "metadata": {},
   "source": [
    "#### 회귀"
   ]
  },
  {
   "cell_type": "code",
   "execution_count": null,
   "metadata": {},
   "outputs": [],
   "source": [
    "X_train, X_test,y_train, y_test= train_test_split(X19_scaled, y19_scaled, test_size=0.3, random_state=0)\n",
    "lr_reg=LinearRegression()\n",
    "lr_reg.fit(X_train,y_train)\n",
    "pred=lr_reg.predict(X_test)\n",
    "\n",
    "evaluate_regr(y_test, pred)"
   ]
  },
  {
   "cell_type": "code",
   "execution_count": null,
   "metadata": {},
   "outputs": [],
   "source": [
    "# 각피처의 회귀 계수값 시각화\n",
    "coef= pd.Series(lr_reg.coef_,index=X19.columns)\n",
    "coef_sort = coef.sort_values(ascending=False)\n",
    "sns.barplot(x=coef_sort.values, y=coef_sort.index)"
   ]
  },
  {
   "cell_type": "markdown",
   "metadata": {},
   "source": [
    "#### AdaBoost"
   ]
  },
  {
   "cell_type": "code",
   "execution_count": null,
   "metadata": {},
   "outputs": [],
   "source": [
    "from sklearn.ensemble import AdaBoostRegressor\n",
    "from sklearn.model_selection import GridSearchCV\n",
    "\n",
    "n_estimators=[50,80,100,200]\n",
    "learning_rate=[0.05,0.1,0.5]\n",
    "\n",
    "param_grid = {\"n_estimators\":n_estimators,\n",
    "              \"learning_rate\":learning_rate}\n",
    "          \n",
    "X_train, X_test, y_train, y_test = train_test_split(X19_scaled,y19_scaled,test_size=0.2,random_state=0)\n",
    "\n",
    "cv=GridSearchCV(estimator=AdaBoostRegressor(random_state=0),\n",
    "               param_grid=param_grid, verbose=True)\n",
    "cv.fit(X_train,y_train)\n",
    "\n",
    "print(\"GridSearchCV 최적 하이퍼 파라미터:\",cv.best_params_)\n",
    "print(\"GridSearchCV 최고 정확도\",cv.best_score_)\n",
    "print(\"GridSearchCV 최적 모형\",cv.best_estimator_)"
   ]
  },
  {
   "cell_type": "code",
   "execution_count": null,
   "metadata": {},
   "outputs": [],
   "source": [
    "model=cv.best_estimator_\n",
    "pd.Series(model.feature_importances_, df19.columns[2:]).sort_values(ascending=True).plot.barh(width=0.8)"
   ]
  },
  {
   "cell_type": "code",
   "execution_count": null,
   "metadata": {},
   "outputs": [],
   "source": [
    "from sklearn.metrics import mean_squared_error\n",
    "\n",
    "model.fit(X19_train, y19_train)\n",
    "pred=model.predict(X19_test)\n",
    "\n",
    "mean_squared_error(pred,y19_test)"
   ]
  },
  {
   "cell_type": "code",
   "execution_count": null,
   "metadata": {},
   "outputs": [],
   "source": []
  },
  {
   "cell_type": "markdown",
   "metadata": {},
   "source": [
    "### __3-2-2. 2019년도 뷰티 구매량__"
   ]
  },
  {
   "cell_type": "code",
   "execution_count": null,
   "metadata": {},
   "outputs": [],
   "source": [
    "buy2019_b=buy2019[buy2019[\"bcat\"]==\"뷰티\"]\n",
    "sns2019_b=sns2019[sns2019[\"bcat\"]==\"뷰티\"]\n",
    "buy2019_b=buy2019_b.reset_index(drop=True)\n",
    "sns2019_b=sns2019_b.reset_index(drop=True)\n",
    "\n",
    "b19_tot=buy2019_b.groupby([\"date\"])[\"qty\"].sum()\n",
    "s19_tot=sns2019_b.groupby([\"date\"])[\"cnt\"].sum()\n",
    "b19_tot=b19_tot.reset_index(drop=True)\n",
    "s19_tot=s19_tot.reset_index(drop=True)\n",
    "\n",
    "df19=pd.concat([b19_tot,s19_tot,weather19],axis=1)\n",
    "df19.columns = ['buy','sns','avg_ta','avg_rhm','avg_cl','rain']\n",
    "\n",
    "X19=df19[df19.columns[2:]]\n",
    "y19=df19[\"buy\"]\n",
    "\n",
    "from sklearn.preprocessing import MinMaxScaler\n",
    "scaler=MinMaxScaler()\n",
    "X19_scaled=scaler.fit_transform(X19)\n",
    "y19_scaled=scaler.fit_transform(y19)"
   ]
  },
  {
   "cell_type": "markdown",
   "metadata": {},
   "source": [
    "#### Random Forest"
   ]
  },
  {
   "cell_type": "code",
   "execution_count": null,
   "metadata": {},
   "outputs": [],
   "source": [
    "X_train, X_test, y_train, y_test = train_test_split(X19_scaled,y19_scaled,test_size=0.2,random_state=0)"
   ]
  },
  {
   "cell_type": "code",
   "execution_count": null,
   "metadata": {},
   "outputs": [],
   "source": [
    "params={\n",
    "    'n_estimators':[500],\n",
    "    'max_depth':[6,8,10,12],\n",
    "    'min_samples_leaf':[8,12,18],\n",
    "    'min_samples_split':[8,16,20]\n",
    "}\n",
    "\n",
    "rf_reg=RandomForestRegressor(random_state=0,n_jobs=-1)\n",
    "grid_cv=GridSearchCV(rf_reg,param_grid=params, cv=2, n_jobs=-1)\n",
    "grid_cv.fit(X_train,y_train)\n",
    "\n",
    "print('최적 하이퍼 파라미터:\\n', grid_cv.best_params_)\n",
    "print('최고 예측 정확도:{0:.4f}'.format(grid_cv.best_score_))"
   ]
  },
  {
   "cell_type": "code",
   "execution_count": null,
   "metadata": {},
   "outputs": [],
   "source": [
    "rf_reg6=RandomForestRegressor(n_estimators=500, max_depth=6, min_samples_leaf=12, min_samples_split=8,random_state=0)\n",
    "rf_reg6.fit(X_train, y_train)\n",
    "pred=rf_reg6.predict(X_test)\n",
    "print(mean_squared_error(y_test,pred))"
   ]
  },
  {
   "cell_type": "code",
   "execution_count": null,
   "metadata": {},
   "outputs": [],
   "source": [
    "pd.Series(rf_reg6.feature_importances_,index=X19.columns).sort_values(ascending=True).plot.barh()"
   ]
  },
  {
   "cell_type": "markdown",
   "metadata": {},
   "source": [
    "Random Forest 결과: 2019년 뷰티 구매횟수는 평균 상대습도에 가장 큰 영향 받았다."
   ]
  },
  {
   "cell_type": "markdown",
   "metadata": {},
   "source": [
    "#### 회귀"
   ]
  },
  {
   "cell_type": "code",
   "execution_count": null,
   "metadata": {},
   "outputs": [],
   "source": [
    "X_train, X_test, y_train, y_test = train_test_split(X19_scaled,y19_scaled,test_size=0.2,random_state=0)\n",
    "lr_reg=LinearRegression()\n",
    "lr_reg.fit(X_train,y_train)\n",
    "pred=lr_reg.predict(X_test)\n",
    "\n",
    "evaluate_regr(y_test, pred)"
   ]
  },
  {
   "cell_type": "code",
   "execution_count": null,
   "metadata": {},
   "outputs": [],
   "source": [
    "# 각피처의 회귀 계수값 시각화\n",
    "coef= pd.Series(lr_reg.coef_,index=X19.columns)\n",
    "coef_sort = coef.sort_values(ascending=False)\n",
    "sns.barplot(x=coef_sort.values, y=coef_sort.index)"
   ]
  },
  {
   "cell_type": "markdown",
   "metadata": {},
   "source": [
    "#### AdaBoost"
   ]
  },
  {
   "cell_type": "code",
   "execution_count": null,
   "metadata": {},
   "outputs": [],
   "source": [
    "from sklearn.ensemble import AdaBoostRegressor\n",
    "from sklearn.model_selection import GridSearchCV\n",
    "\n",
    "n_estimators=[50,80,100,200]\n",
    "learning_rate=[0.05,0.1,0.5]\n",
    "\n",
    "param_grid = {\"n_estimators\":n_estimators,\n",
    "              \"learning_rate\":learning_rate}\n",
    "          \n",
    "X_train, X_test, y_train, y_test = train_test_split(X19_scaled,y19_scaled,test_size=0.2,random_state=0)\n",
    "\n",
    "cv=GridSearchCV(estimator=AdaBoostRegressor(random_state=0),\n",
    "               param_grid=param_grid, verbose=True)\n",
    "cv.fit(X_train,y_train)\n",
    "\n",
    "print(\"GridSearchCV 최적 하이퍼 파라미터:\",cv.best_params_)\n",
    "print(\"GridSearchCV 최고 정확도\",cv.best_score_)\n",
    "print(\"GridSearchCV 최적 모형\",cv.best_estimator_)"
   ]
  },
  {
   "cell_type": "code",
   "execution_count": null,
   "metadata": {},
   "outputs": [],
   "source": [
    "model=cv.best_estimator_\n",
    "pd.Series(model.feature_importances_, df19.columns[2:]).sort_values(ascending=True).plot.barh(width=0.8)"
   ]
  },
  {
   "cell_type": "code",
   "execution_count": null,
   "metadata": {
    "scrolled": true
   },
   "outputs": [],
   "source": [
    "from sklearn.metrics import mean_squared_error\n",
    "\n",
    "model.fit(X19_train, y19_train)\n",
    "pred=model.predict(X19_test)\n",
    "\n",
    "mean_squared_error(pred,y19_test)"
   ]
  },
  {
   "cell_type": "code",
   "execution_count": null,
   "metadata": {},
   "outputs": [],
   "source": []
  },
  {
   "cell_type": "markdown",
   "metadata": {},
   "source": [
    "### __3-2-3. 2019년도 냉난방가전 구매량__"
   ]
  },
  {
   "cell_type": "code",
   "execution_count": null,
   "metadata": {},
   "outputs": [],
   "source": [
    "buy2019_n=buy2019[buy2019[\"bcat\"]==\"냉난방가전\"]\n",
    "sns2019_n=sns2019[sns2019[\"bcat\"]==\"냉난방가전\"]\n",
    "buy2019_n=buy2019_n.reset_index(drop=True)\n",
    "sns2019_n=sns2019_n.reset_index(drop=True)\n",
    "b19_tot=buy2019_n.groupby([\"date\"])[\"qty\"].sum()\n",
    "s19_tot=sns2019_n.groupby([\"date\"])[\"cnt\"].sum()\n",
    "b19_tot=b19_tot.reset_index(drop=True)\n",
    "s19_tot=s19_tot.reset_index(drop=True)\n",
    "\n",
    "df19=pd.concat([b19_tot,s19_tot,weather19],axis=1)\n",
    "df19.columns = ['buy','sns','avg_ta','avg_rhm','avg_cl','rain']\n",
    "\n",
    "X19=df19[df19.columns[2:]]\n",
    "y19=df19[\"buy\"]\n",
    "\n",
    "from sklearn.preprocessing import MinMaxScaler\n",
    "scaler=MinMaxScaler()\n",
    "X19_scaled=scaler.fit_transform(X19)\n",
    "y19_scaled=scaler.fit_transform(y19)"
   ]
  },
  {
   "cell_type": "markdown",
   "metadata": {},
   "source": [
    "#### Random Forest"
   ]
  },
  {
   "cell_type": "code",
   "execution_count": null,
   "metadata": {},
   "outputs": [],
   "source": [
    "X_train, X_test, y_train, y_test = train_test_split(X19_scaled,y19_scaled,test_size=0.2,random_state=0)"
   ]
  },
  {
   "cell_type": "code",
   "execution_count": null,
   "metadata": {},
   "outputs": [],
   "source": [
    "params={\n",
    "    'n_estimators':[500],\n",
    "    'max_depth':[6,8,10,12],\n",
    "    'min_samples_leaf':[8,12,18],\n",
    "    'min_samples_split':[8,16,20]\n",
    "}\n",
    "\n",
    "rf_reg=RandomForestRegressor(random_state=0,n_jobs=-1)\n",
    "grid_cv=GridSearchCV(rf_reg,param_grid=params, cv=2, n_jobs=-1)\n",
    "grid_cv.fit(X_train,y_train)\n",
    "\n",
    "print('최적 하이퍼 파라미터:\\n', grid_cv.best_params_)\n",
    "print('최고 예측 정확도:{0:.4f}'.format(grid_cv.best_score_))"
   ]
  },
  {
   "cell_type": "code",
   "execution_count": null,
   "metadata": {},
   "outputs": [],
   "source": [
    "rf_reg4=RandomForestRegressor(n_estimators=500,max_depth=6,min_samples_leaf=18,min_samples_split=8,random_state=0)\n",
    "rf_reg4.fit(X_train, y_train)\n",
    "pred=rf_reg4.predict(X_test)\n",
    "print(mean_squared_error(y_test,pred))"
   ]
  },
  {
   "cell_type": "code",
   "execution_count": null,
   "metadata": {},
   "outputs": [],
   "source": [
    "pd.Series(rf_reg4.feature_importances_,index=X19.columns).sort_values(ascending=True).plot.barh()"
   ]
  },
  {
   "cell_type": "markdown",
   "metadata": {},
   "source": [
    "Random Forest 결과 : 2019년 냉난방 sns 언급 횟수는 평균 기온에 가장 큰 영향을 받았다. "
   ]
  },
  {
   "cell_type": "markdown",
   "metadata": {},
   "source": [
    "#### 회귀"
   ]
  },
  {
   "cell_type": "code",
   "execution_count": null,
   "metadata": {},
   "outputs": [],
   "source": [
    "X_train, X_test,y_train, y_test= train_test_split(X19_scaled, y19_scaled, test_size=0.3, random_state=0)\n",
    "lr_reg=LinearRegression()\n",
    "lr_reg.fit(X_train,y_train)\n",
    "pred=lr_reg.predict(X_test)\n",
    "\n",
    "evaluate_regr(y_test, pred)"
   ]
  },
  {
   "cell_type": "code",
   "execution_count": null,
   "metadata": {},
   "outputs": [],
   "source": [
    "coef= pd.Series(lr_reg.coef_,index=X19.columns)\n",
    "coef_sort = coef.sort_values(ascending=False)\n",
    "sns.barplot(x=coef_sort.values, y=coef_sort.index)"
   ]
  },
  {
   "cell_type": "markdown",
   "metadata": {},
   "source": [
    "#### AdaBoost"
   ]
  },
  {
   "cell_type": "code",
   "execution_count": null,
   "metadata": {},
   "outputs": [],
   "source": [
    "from sklearn.ensemble import AdaBoostRegressor\n",
    "from sklearn.model_selection import GridSearchCV\n",
    "\n",
    "n_estimators=[50,80,100,200]\n",
    "learning_rate=[0.05,0.1,0.5]\n",
    "\n",
    "param_grid = {\"n_estimators\":n_estimators,\n",
    "              \"learning_rate\":learning_rate}\n",
    "          \n",
    "X_train, X_test, y_train, y_test = train_test_split(X19_scaled,y19_scaled,test_size=0.2,random_state=0)\n",
    "\n",
    "cv=GridSearchCV(estimator=AdaBoostRegressor(random_state=0),\n",
    "               param_grid=param_grid, verbose=True)\n",
    "cv.fit(X_train,y_train)\n",
    "\n",
    "print(\"GridSearchCV 최적 하이퍼 파라미터:\",cv.best_params_)\n",
    "print(\"GridSearchCV 최고 정확도\",cv.best_score_)\n",
    "print(\"GridSearchCV 최적 모형\",cv.best_estimator_)"
   ]
  },
  {
   "cell_type": "code",
   "execution_count": null,
   "metadata": {},
   "outputs": [],
   "source": [
    "model=cv.best_estimator_\n",
    "pd.Series(model.feature_importances_, df19.columns[2:]).sort_values(ascending=True).plot.barh(width=0.8)"
   ]
  },
  {
   "cell_type": "code",
   "execution_count": null,
   "metadata": {
    "scrolled": true
   },
   "outputs": [],
   "source": [
    "from sklearn.metrics import mean_squared_error\n",
    "\n",
    "model.fit(X19_train, y19_train)\n",
    "pred=model.predict(X19_test)\n",
    "\n",
    "mean_squared_error(pred,y19_test)"
   ]
  },
  {
   "cell_type": "code",
   "execution_count": null,
   "metadata": {},
   "outputs": [],
   "source": []
  },
  {
   "cell_type": "markdown",
   "metadata": {},
   "source": [
    "### __3-2-4. 2019년도 식품 구매량__"
   ]
  },
  {
   "cell_type": "code",
   "execution_count": null,
   "metadata": {},
   "outputs": [],
   "source": [
    "buy2019_f=buy2019[buy2019[\"bcat\"]==\"식품\"]\n",
    "sns2019_f=sns2019[sns2019[\"bcat\"]==\"식품\"]\n",
    "buy2019_f=buy2019_f.reset_index(drop=True)\n",
    "sns2019_f=sns2019_f.reset_index(drop=True)\n",
    "b19_tot=buy2019_f.groupby([\"date\"])[\"qty\"].sum()\n",
    "s19_tot=sns2019_f.groupby([\"date\"])[\"cnt\"].sum()\n",
    "b19_tot=b19_tot.reset_index(drop=True)\n",
    "s19_tot=s19_tot.reset_index(drop=True)\n",
    "\n",
    "df19=pd.concat([b19_tot,s19_tot,weather19],axis=1)\n",
    "df19.columns = ['buy','sns','avg_ta','avg_rhm','avg_cl','rain']\n",
    "\n",
    "\n",
    "X19=df19[df19.columns[2:]]\n",
    "y19=df19[\"buy\"]\n",
    "\n",
    "from sklearn.preprocessing import MinMaxScaler\n",
    "scaler=MinMaxScaler()\n",
    "X19_scaled=scaler.fit_transform(X19)\n",
    "y19_scaled=scaler.fit_transform(y19)"
   ]
  },
  {
   "cell_type": "markdown",
   "metadata": {},
   "source": [
    "#### Random Forest"
   ]
  },
  {
   "cell_type": "code",
   "execution_count": null,
   "metadata": {},
   "outputs": [],
   "source": [
    "X_train, X_test, y_train, y_test = train_test_split(X19_scaled,y19_scaled,test_size=0.2,random_state=0)"
   ]
  },
  {
   "cell_type": "code",
   "execution_count": null,
   "metadata": {},
   "outputs": [],
   "source": [
    "params={\n",
    "    'n_estimators':[500],\n",
    "    'max_depth':[6,8,10,12],\n",
    "    'min_samples_leaf':[8,12,18],\n",
    "    'min_samples_split':[8,16,20]\n",
    "}\n",
    "\n",
    "rf_reg=RandomForestRegressor(random_state=0,n_jobs=-1)\n",
    "grid_cv=GridSearchCV(rf_reg,param_grid=params, cv=2, n_jobs=-1)\n",
    "grid_cv.fit(X_train,y_train)\n",
    "\n",
    "print('최적 하이퍼 파라미터:\\n', grid_cv.best_params_)\n",
    "print('최고 예측 정확도:{0:.4f}'.format(grid_cv.best_score_))"
   ]
  },
  {
   "cell_type": "code",
   "execution_count": null,
   "metadata": {},
   "outputs": [],
   "source": [
    "rf_regy=RandomForestRegressor(n_estimators=500, max_depth=6, min_samples_leaf=12, min_samples_split=8,random_state=0)\n",
    "rf_regy.fit(X_train, y_train)\n",
    "pred=rf_regy.predict(X_test)\n",
    "print(mean_squared_error(y_test,pred))"
   ]
  },
  {
   "cell_type": "code",
   "execution_count": null,
   "metadata": {},
   "outputs": [],
   "source": [
    "pd.Series(rf_regy.feature_importances_,index=X19.columns).sort_values(ascending=True).plot.barh()"
   ]
  },
  {
   "cell_type": "markdown",
   "metadata": {},
   "source": [
    "#### 회귀"
   ]
  },
  {
   "cell_type": "code",
   "execution_count": null,
   "metadata": {},
   "outputs": [],
   "source": [
    "X_train, X_test,y_train, y_test= train_test_split(X19_scaled, y19_scaled, test_size=0.3, random_state=0)\n",
    "lr_reg=LinearRegression()\n",
    "lr_reg.fit(X_train,y_train)\n",
    "pred=lr_reg.predict(X_test)\n",
    "\n",
    "evaluate_regr(y_test, pred)"
   ]
  },
  {
   "cell_type": "code",
   "execution_count": null,
   "metadata": {},
   "outputs": [],
   "source": [
    "# 각피처의 회귀 계수값 시각화\n",
    "coef= pd.Series(lr_reg.coef_,index=X19.columns)\n",
    "coef_sort = coef.sort_values(ascending=False)\n",
    "sns.barplot(x=coef_sort.values, y=coef_sort.index)"
   ]
  },
  {
   "cell_type": "markdown",
   "metadata": {},
   "source": [
    "#### AdaBoost"
   ]
  },
  {
   "cell_type": "code",
   "execution_count": null,
   "metadata": {},
   "outputs": [],
   "source": [
    "from sklearn.ensemble import AdaBoostRegressor\n",
    "from sklearn.model_selection import GridSearchCV\n",
    "\n",
    "n_estimators=[50,80,100,200]\n",
    "learning_rate=[0.05,0.1,0.5]\n",
    "\n",
    "param_grid = {\"n_estimators\":n_estimators,\n",
    "              \"learning_rate\":learning_rate}\n",
    "          \n",
    "X_train, X_test, y_train, y_test = train_test_split(X19_scaled,y19_scaled,test_size=0.2,random_state=0)\n",
    "\n",
    "cv=GridSearchCV(estimator=AdaBoostRegressor(random_state=0),\n",
    "               param_grid=param_grid, verbose=True)\n",
    "cv.fit(X_train,y_train)\n",
    "\n",
    "print(\"GridSearchCV 최적 하이퍼 파라미터:\",cv.best_params_)\n",
    "print(\"GridSearchCV 최고 정확도\",cv.best_score_)\n",
    "print(\"GridSearchCV 최적 모형\",cv.best_estimator_)"
   ]
  },
  {
   "cell_type": "code",
   "execution_count": null,
   "metadata": {},
   "outputs": [],
   "source": [
    "model=cv.best_estimator_\n",
    "pd.Series(model.feature_importances_, df19.columns[2:]).sort_values(ascending=True).plot.barh(width=0.8)"
   ]
  },
  {
   "cell_type": "code",
   "execution_count": null,
   "metadata": {
    "scrolled": true
   },
   "outputs": [],
   "source": [
    "from sklearn.metrics import mean_squared_error\n",
    "\n",
    "model.fit(X19_train, y19_train)\n",
    "pred=model.predict(X19_test)\n",
    "\n",
    "mean_squared_error(pred,y19_test)"
   ]
  },
  {
   "cell_type": "code",
   "execution_count": null,
   "metadata": {},
   "outputs": [],
   "source": []
  },
  {
   "cell_type": "markdown",
   "metadata": {},
   "source": [
    "## __4. 날씨가 sns 언급횟수에 영향을 미칠까__"
   ]
  },
  {
   "cell_type": "markdown",
   "metadata": {},
   "source": [
    "### __4-1. 2018년도 언급횟수__"
   ]
  },
  {
   "cell_type": "code",
   "execution_count": null,
   "metadata": {},
   "outputs": [],
   "source": [
    "time3=sns2018.groupby(by='date')['cnt'].sum()\n",
    "plt.figure(figsize=(20,10))\n",
    "plt.plot(time3)\n",
    "plt.show()"
   ]
  },
  {
   "cell_type": "markdown",
   "metadata": {},
   "source": [
    "### __4-1-1. 2018년도 전체 언급횟수__"
   ]
  },
  {
   "cell_type": "code",
   "execution_count": null,
   "metadata": {},
   "outputs": [],
   "source": [
    "b18_tot=buy2018.groupby([\"date\"])[\"qty\"].sum()\n",
    "s18_tot=sns2018.groupby([\"date\"])[\"cnt\"].sum()\n",
    "b18_tot=b18_tot.reset_index(drop=True)\n",
    "s18_tot=s18_tot.reset_index(drop=True)\n",
    "\n",
    "df18=pd.concat([b18_tot,s18_tot,weather18],axis=1)\n",
    "df18.columns = ['buy','sns','avg_ta','avg_rhm','avg_cl','rain']\n",
    "\n",
    "X18=df18[df18.columns[2:]]\n",
    "y18=df18[\"sns\"]\n",
    "\n",
    "from sklearn.preprocessing import MinMaxScaler\n",
    "scaler=MinMaxScaler()\n",
    "X18_scaled=scaler.fit_transform(X18)\n",
    "y18_scaled=scaler.fit_transform(y18)"
   ]
  },
  {
   "cell_type": "markdown",
   "metadata": {},
   "source": [
    "#### Random Forest"
   ]
  },
  {
   "cell_type": "code",
   "execution_count": null,
   "metadata": {},
   "outputs": [],
   "source": [
    "X_train, X_test, y_train, y_test = train_test_split(X18_scaled,y18_scaled,test_size=0.2,random_state=0)"
   ]
  },
  {
   "cell_type": "code",
   "execution_count": null,
   "metadata": {},
   "outputs": [],
   "source": [
    "params={\n",
    "    'n_estimators':[500],\n",
    "    'max_depth':[6,8,10,12],\n",
    "    'min_samples_leaf':[8,12,18],\n",
    "    'min_samples_split':[8,16,20]\n",
    "}\n",
    "\n",
    "rf_reg=RandomForestRegressor(random_state=0,n_jobs=-1)\n",
    "grid_cv=GridSearchCV(rf_reg,param_grid=params, cv=2, n_jobs=-1)\n",
    "grid_cv.fit(X_train,y_train)\n",
    "\n",
    "print('최적 하이퍼 파라미터:\\n', grid_cv.best_params_)\n",
    "print('최고 예측 정확도:{0:.4f}'.format(grid_cv.best_score_))"
   ]
  },
  {
   "cell_type": "code",
   "execution_count": null,
   "metadata": {},
   "outputs": [],
   "source": [
    "rf_reg8=RandomForestRegressor(n_estimators=500, max_depth=6, min_samples_leaf=18, min_samples_split=8,random_state=0)\n",
    "rf_reg8.fit(X_train, y_train)\n",
    "pred=rf_reg8.predict(X_test)\n",
    "print(mean_squared_error(y_test,pred))"
   ]
  },
  {
   "cell_type": "code",
   "execution_count": null,
   "metadata": {},
   "outputs": [],
   "source": [
    "pd.Series(rf_reg8.feature_importances_,index=X18.columns).sort_values(ascending=True).plot.barh()"
   ]
  },
  {
   "cell_type": "markdown",
   "metadata": {},
   "source": [
    "#### 회귀"
   ]
  },
  {
   "cell_type": "code",
   "execution_count": null,
   "metadata": {},
   "outputs": [],
   "source": [
    "X_train, X_test, y_train, y_test = train_test_split(X18_scaled,y18_scaled,test_size=0.2,random_state=0)\n",
    "lr_reg=LinearRegression()\n",
    "lr_reg.fit(X_train,y_train)\n",
    "pred=lr_reg.predict(X_test)\n",
    "\n",
    "evaluate_regr(y_test, pred)"
   ]
  },
  {
   "cell_type": "code",
   "execution_count": null,
   "metadata": {},
   "outputs": [],
   "source": [
    "# 각피처의 회귀 계수값 시각화\n",
    "coef= pd.Series(lr_reg.coef_,index=X18.columns)\n",
    "coef_sort = coef.sort_values(ascending=False)\n",
    "sns.barplot(x=coef_sort.values, y=coef_sort.index)"
   ]
  },
  {
   "cell_type": "code",
   "execution_count": null,
   "metadata": {},
   "outputs": [],
   "source": []
  },
  {
   "cell_type": "markdown",
   "metadata": {},
   "source": [
    "#### AdaBoost"
   ]
  },
  {
   "cell_type": "code",
   "execution_count": null,
   "metadata": {},
   "outputs": [],
   "source": [
    "from sklearn.ensemble import AdaBoostRegressor\n",
    "from sklearn.model_selection import GridSearchCV\n",
    "\n",
    "n_estimators=[50,80,100,200]\n",
    "learning_rate=[0.05,0.1,0.5]\n",
    "\n",
    "param_grid = {\"n_estimators\":n_estimators,\n",
    "              \"learning_rate\":learning_rate}\n",
    "          \n",
    "X_train, X_test, y_train, y_test = train_test_split(X18_scaled,y18_scaled,test_size=0.2,random_state=0)\n",
    "\n",
    "cv=GridSearchCV(estimator=AdaBoostRegressor(random_state=0),\n",
    "               param_grid=param_grid, verbose=True)\n",
    "cv.fit(X_train,y_train)\n",
    "\n",
    "print(\"GridSearchCV 최적 하이퍼 파라미터:\",cv.best_params_)\n",
    "print(\"GridSearchCV 최고 정확도\",cv.best_score_)\n",
    "print(\"GridSearchCV 최적 모형\",cv.best_estimator_)"
   ]
  },
  {
   "cell_type": "code",
   "execution_count": null,
   "metadata": {},
   "outputs": [],
   "source": [
    "model=cv.best_estimator_\n",
    "pd.Series(model.feature_importances_, df18.columns[2:]).sort_values(ascending=True).plot.barh(width=0.8)"
   ]
  },
  {
   "cell_type": "code",
   "execution_count": null,
   "metadata": {
    "scrolled": true
   },
   "outputs": [],
   "source": [
    "from sklearn.metrics import mean_squared_error\n",
    "\n",
    "model.fit(X18_train, y18_train)\n",
    "pred=model.predict(X18_test)\n",
    "\n",
    "mean_squared_error(pred,y18_test)"
   ]
  },
  {
   "cell_type": "code",
   "execution_count": null,
   "metadata": {},
   "outputs": [],
   "source": []
  },
  {
   "cell_type": "markdown",
   "metadata": {},
   "source": [
    "### __4-1-2. 2018년도 뷰티 언급횟수__ "
   ]
  },
  {
   "cell_type": "code",
   "execution_count": null,
   "metadata": {},
   "outputs": [],
   "source": [
    "buy2018_b=buy2018[buy2018[\"bcat\"]==\"뷰티\"]\n",
    "sns2018_b=sns2018[sns2018[\"bcat\"]==\"뷰티\"]\n",
    "\n",
    "buy2018_b=buy2018_b.reset_index(drop=True)\n",
    "sns2018_b=sns2018_b.reset_index(drop=True)\n",
    "\n",
    "b18_tot=buy2018_b.groupby([\"date\"])[\"qty\"].sum()\n",
    "s18_tot=sns2018_b.groupby([\"date\"])[\"cnt\"].sum()\n",
    "b18_tot=b18_tot.reset_index(drop=True)\n",
    "s18_tot=s18_tot.reset_index(drop=True)\n",
    "\n",
    "df18=pd.concat([b18_tot,s18_tot,weather18],axis=1)\n",
    "df18.columns = ['buy','sns','avg_ta','avg_rhm','avg_cl','rain']\n",
    "\n",
    "X18=df18[df18.columns[2:]]\n",
    "y18=df18[\"sns\"]\n",
    "\n",
    "from sklearn.preprocessing import MinMaxScaler\n",
    "scaler=MinMaxScaler()\n",
    "X18_scaled=scaler.fit_transform(X18)\n",
    "y18_scaled=scaler.fit_transform(y18)"
   ]
  },
  {
   "cell_type": "markdown",
   "metadata": {},
   "source": [
    "#### Random Forest"
   ]
  },
  {
   "cell_type": "code",
   "execution_count": null,
   "metadata": {},
   "outputs": [],
   "source": [
    "X_train, X_test, y_train, y_test = train_test_split(X18_scaled,y18_scaled,test_size=0.2,random_state=0)"
   ]
  },
  {
   "cell_type": "code",
   "execution_count": null,
   "metadata": {},
   "outputs": [],
   "source": [
    "params={\n",
    "    'n_estimators':[500],\n",
    "    'max_depth':[6,8,10,12],\n",
    "    'min_samples_leaf':[8,12,18],\n",
    "    'min_samples_split':[8,16,20]\n",
    "}\n",
    "\n",
    "rf_reg=RandomForestRegressor(random_state=0,n_jobs=-1)\n",
    "grid_cv=GridSearchCV(rf_reg,param_grid=params, cv=2, n_jobs=-1)\n",
    "grid_cv.fit(X_train,y_train)\n",
    "\n",
    "print('최적 하이퍼 파라미터:\\n', grid_cv.best_params_)\n",
    "print('최고 예측 정확도:{0:.4f}'.format(grid_cv.best_score_))"
   ]
  },
  {
   "cell_type": "code",
   "execution_count": null,
   "metadata": {},
   "outputs": [],
   "source": [
    "rf_reg7=RandomForestRegressor(n_estimators=500, max_depth=6, min_samples_leaf=8, min_samples_split=8,random_state=0)\n",
    "rf_reg7.fit(X_train, y_train)\n",
    "pred=rf_reg7.predict(X_test)\n",
    "print(mean_squared_error(y_test,pred))"
   ]
  },
  {
   "cell_type": "code",
   "execution_count": null,
   "metadata": {},
   "outputs": [],
   "source": [
    "pd.Series(rf_reg7.feature_importances_,index=X18.columns).sort_values(ascending=True).plot.barh()"
   ]
  },
  {
   "cell_type": "markdown",
   "metadata": {},
   "source": [
    "#### 회귀"
   ]
  },
  {
   "cell_type": "code",
   "execution_count": null,
   "metadata": {},
   "outputs": [],
   "source": [
    "X_train, X_test, y_train, y_test = train_test_split(X18_scaled,y18_scaled,test_size=0.2,random_state=0)\n",
    "lr_reg=LinearRegression()\n",
    "lr_reg.fit(X_train,y_train)\n",
    "pred=lr_reg.predict(X_test)\n",
    "\n",
    "evaluate_regr(y_test, pred)"
   ]
  },
  {
   "cell_type": "code",
   "execution_count": null,
   "metadata": {},
   "outputs": [],
   "source": [
    "# 각피처의 회귀 계수값 시각화\n",
    "coef= pd.Series(lr_reg.coef_,index=X18.columns)\n",
    "coef_sort = coef.sort_values(ascending=False)\n",
    "sns.barplot(x=coef_sort.values, y=coef_sort.index)"
   ]
  },
  {
   "cell_type": "code",
   "execution_count": null,
   "metadata": {},
   "outputs": [],
   "source": []
  },
  {
   "cell_type": "markdown",
   "metadata": {},
   "source": [
    "#### AdaBoost"
   ]
  },
  {
   "cell_type": "code",
   "execution_count": null,
   "metadata": {},
   "outputs": [],
   "source": [
    "from sklearn.ensemble import AdaBoostRegressor\n",
    "from sklearn.model_selection import GridSearchCV\n",
    "\n",
    "n_estimators=[50,80,100,200]\n",
    "learning_rate=[0.05,0.1,0.5]\n",
    "\n",
    "param_grid = {\"n_estimators\":n_estimators,\n",
    "              \"learning_rate\":learning_rate}\n",
    "          \n",
    "X_train, X_test, y_train, y_test = train_test_split(X18_scaled,y18_scaled,test_size=0.2,random_state=0)\n",
    "\n",
    "cv=GridSearchCV(estimator=AdaBoostRegressor(random_state=0),\n",
    "               param_grid=param_grid, verbose=True)\n",
    "cv.fit(X_train,y_train)\n",
    "\n",
    "print(\"GridSearchCV 최적 하이퍼 파라미터:\",cv.best_params_)\n",
    "print(\"GridSearchCV 최고 정확도\",cv.best_score_)\n",
    "print(\"GridSearchCV 최적 모형\",cv.best_estimator_)"
   ]
  },
  {
   "cell_type": "code",
   "execution_count": null,
   "metadata": {},
   "outputs": [],
   "source": [
    "model=cv.best_estimator_\n",
    "pd.Series(model.feature_importances_, df18.columns[2:]).sort_values(ascending=True).plot.barh(width=0.8)"
   ]
  },
  {
   "cell_type": "code",
   "execution_count": null,
   "metadata": {
    "scrolled": true
   },
   "outputs": [],
   "source": [
    "from sklearn.metrics import mean_squared_error\n",
    "\n",
    "model.fit(X18_train, y18_train)\n",
    "pred=model.predict(X18_test)\n",
    "\n",
    "mean_squared_error(pred,y18_test)"
   ]
  },
  {
   "cell_type": "code",
   "execution_count": null,
   "metadata": {},
   "outputs": [],
   "source": []
  },
  {
   "cell_type": "markdown",
   "metadata": {},
   "source": [
    "### __4-1-3. 2018년도 냉난방가전 언급횟수__"
   ]
  },
  {
   "cell_type": "code",
   "execution_count": null,
   "metadata": {},
   "outputs": [],
   "source": [
    "buy2018_n=buy2018[buy2018[\"bcat\"]==\"냉난방가전\"]\n",
    "sns2018_n=sns2018[sns2018[\"bcat\"]==\"냉난방가전\"]\n",
    "buy2018_n=buy2018_n.reset_index(drop=True)\n",
    "sns2018_n=sns2018_n.reset_index(drop=True)\n",
    "b18_tot=buy2018_n.groupby([\"date\"])[\"qty\"].sum()\n",
    "s18_tot=sns2018_n.groupby([\"date\"])[\"cnt\"].sum()\n",
    "b18_tot=b18_tot.reset_index(drop=True)\n",
    "s18_tot=s18_tot.reset_index(drop=True)\n",
    "\n",
    "df18=pd.concat([b18_tot,s18_tot,weather18],axis=1)\n",
    "df18.columns = ['buy','sns','avg_ta','avg_rhm','avg_cl','rain']\n",
    "\n",
    "X18=df18[df18.columns[2:]]\n",
    "y18=df18[\"buy\"]\n",
    "\n",
    "from sklearn.preprocessing import MinMaxScaler\n",
    "scaler=MinMaxScaler()\n",
    "X18_scaled=scaler.fit_transform(X18)\n",
    "y18_scaled=scaler.fit_transform(y18)"
   ]
  },
  {
   "cell_type": "markdown",
   "metadata": {},
   "source": [
    "#### Random Forest"
   ]
  },
  {
   "cell_type": "code",
   "execution_count": null,
   "metadata": {},
   "outputs": [],
   "source": [
    "X_train, X_test, y_train, y_test = train_test_split(X18_scaled,y18_scaled,test_size=0.2,random_state=0)"
   ]
  },
  {
   "cell_type": "code",
   "execution_count": null,
   "metadata": {},
   "outputs": [],
   "source": [
    "params={\n",
    "    'n_estimators':[500],\n",
    "    'max_depth':[6,8,10,12],\n",
    "    'min_samples_leaf':[8,12,18],\n",
    "    'min_samples_split':[8,16,20]\n",
    "}\n",
    "\n",
    "rf_reg=RandomForestRegressor(random_state=0,n_jobs=-1)\n",
    "grid_cv=GridSearchCV(rf_reg,param_grid=params, cv=2, n_jobs=-1)\n",
    "grid_cv.fit(X_train,y_train)\n",
    "\n",
    "print('최적 하이퍼 파라미터:\\n', grid_cv.best_params_)\n",
    "print('최고 예측 정확도:{0:.4f}'.format(grid_cv.best_score_))"
   ]
  },
  {
   "cell_type": "code",
   "execution_count": null,
   "metadata": {},
   "outputs": [],
   "source": [
    "rf_reg3=RandomForestRegressor(n_estimators=500,max_depth=6,min_samples_leaf=18,min_samples_split=8,random_state=0)\n",
    "rf_reg3.fit(X_train, y_train)\n",
    "pred=rf_reg3.predict(X_test)\n",
    "print(mean_squared_error(y_test,pred))"
   ]
  },
  {
   "cell_type": "code",
   "execution_count": null,
   "metadata": {},
   "outputs": [],
   "source": [
    "pd.Series(rf_reg3.feature_importances_,index=X18.columns).sort_values(ascending=True).plot.barh()"
   ]
  },
  {
   "cell_type": "markdown",
   "metadata": {},
   "source": [
    "#### 회귀"
   ]
  },
  {
   "cell_type": "code",
   "execution_count": null,
   "metadata": {},
   "outputs": [],
   "source": [
    "X_train, X_test, y_train, y_test = train_test_split(X18_scaled,y18_scaled,test_size=0.2,random_state=0)\n",
    "lr_reg=LinearRegression()\n",
    "lr_reg.fit(X_train,y_train)\n",
    "pred=lr_reg.predict(X_test)\n",
    "\n",
    "evaluate_regr(y_test, pred)"
   ]
  },
  {
   "cell_type": "code",
   "execution_count": null,
   "metadata": {},
   "outputs": [],
   "source": [
    "# 각피처의 회귀 계수값 시각화\n",
    "coef= pd.Series(lr_reg.coef_,index=X18.columns)\n",
    "coef_sort = coef.sort_values(ascending=False)\n",
    "sns.barplot(x=coef_sort.values, y=coef_sort.index)"
   ]
  },
  {
   "cell_type": "markdown",
   "metadata": {},
   "source": [
    "#### AdaBoost"
   ]
  },
  {
   "cell_type": "code",
   "execution_count": null,
   "metadata": {},
   "outputs": [],
   "source": [
    "from sklearn.ensemble import AdaBoostRegressor\n",
    "from sklearn.model_selection import GridSearchCV\n",
    "\n",
    "n_estimators=[50,80,100,200]\n",
    "learning_rate=[0.05,0.1,0.5]\n",
    "\n",
    "param_grid = {\"n_estimators\":n_estimators,\n",
    "              \"learning_rate\":learning_rate}\n",
    "          \n",
    "X_train, X_test, y_train, y_test = train_test_split(X18_scaled,y18_scaled,test_size=0.2,random_state=0)\n",
    "\n",
    "cv=GridSearchCV(estimator=AdaBoostRegressor(random_state=0),\n",
    "               param_grid=param_grid, verbose=True)\n",
    "cv.fit(X_train,y_train)\n",
    "\n",
    "print(\"GridSearchCV 최적 하이퍼 파라미터:\",cv.best_params_)\n",
    "print(\"GridSearchCV 최고 정확도\",cv.best_score_)\n",
    "print(\"GridSearchCV 최적 모형\",cv.best_estimator_)"
   ]
  },
  {
   "cell_type": "code",
   "execution_count": null,
   "metadata": {},
   "outputs": [],
   "source": [
    "model=cv.best_estimator_\n",
    "pd.Series(model.feature_importances_, df18.columns[2:]).sort_values(ascending=True).plot.barh(width=0.8)"
   ]
  },
  {
   "cell_type": "code",
   "execution_count": null,
   "metadata": {
    "scrolled": true
   },
   "outputs": [],
   "source": [
    "from sklearn.metrics import mean_squared_error\n",
    "\n",
    "model.fit(X18_train, y18_train)\n",
    "pred=model.predict(X18_test)\n",
    "\n",
    "mean_squared_error(pred,y18_test)"
   ]
  },
  {
   "cell_type": "markdown",
   "metadata": {
    "collapsed": true
   },
   "source": [
    "### 4-1-4. 2018년 식품 언급횟수"
   ]
  },
  {
   "cell_type": "code",
   "execution_count": null,
   "metadata": {},
   "outputs": [],
   "source": [
    "buy2018_f=buy2018[buy2018[\"bcat\"]==\"식품\"]\n",
    "sns2018_f=sns2018[sns2018[\"bcat\"]==\"식품\"]\n",
    "buy2018_f=buy2018_f.reset_index(drop=True)\n",
    "sns2018_f=sns2018_f.reset_index(drop=True)\n",
    "b18_tot=buy2018_f.groupby([\"date\"])[\"qty\"].sum()\n",
    "s18_tot=sns2018_f.groupby([\"date\"])[\"cnt\"].sum()\n",
    "b18_tot=b18_tot.reset_index(drop=True)\n",
    "s18_tot=s18_tot.reset_index(drop=True)\n",
    "\n",
    "df18=pd.concat([b18_tot,s18_tot,weather18],axis=1)\n",
    "df18.columns = ['buy','sns','avg_ta','avg_rhm','avg_cl','rain']\n",
    "\n",
    "X18=df18[df18.columns[2:]]\n",
    "y18=df18[\"sns\"]\n",
    "\n",
    "from sklearn.preprocessing import MinMaxScaler\n",
    "scaler=MinMaxScaler()\n",
    "X18_scaled=scaler.fit_transform(X18)\n",
    "y18_scaled=scaler.fit_transform(y18)"
   ]
  },
  {
   "cell_type": "markdown",
   "metadata": {},
   "source": [
    "#### RandomForest"
   ]
  },
  {
   "cell_type": "code",
   "execution_count": null,
   "metadata": {},
   "outputs": [],
   "source": [
    "X_train, X_test, y_train, y_test = train_test_split(X18_scaled,y18_scaled,test_size=0.2,random_state=0)"
   ]
  },
  {
   "cell_type": "code",
   "execution_count": null,
   "metadata": {},
   "outputs": [],
   "source": [
    "params={\n",
    "    'n_estimators':[500],\n",
    "    'max_depth':[6,8,10,12],\n",
    "    'min_samples_leaf':[8,12,18],\n",
    "    'min_samples_split':[8,16,20]\n",
    "}\n",
    "\n",
    "rf_reg=RandomForestRegressor(random_state=0,n_jobs=-1)\n",
    "grid_cv=GridSearchCV(rf_reg,param_grid=params, cv=2, n_jobs=-1)\n",
    "grid_cv.fit(X_train,y_train)\n",
    "\n",
    "print('최적 하이퍼 파라미터:\\n', grid_cv.best_params_)\n",
    "print('최고 예측 정확도:{0:.4f}'.format(grid_cv.best_score_))"
   ]
  },
  {
   "cell_type": "code",
   "execution_count": null,
   "metadata": {},
   "outputs": [],
   "source": [
    "rf_regz=RandomForestRegressor(n_estimators=500, max_depth=6, min_samples_leaf=18, min_samples_split=8,random_state=0)\n",
    "rf_regz.fit(X_train, y_train)\n",
    "pred=rf_regz.predict(X_test)\n",
    "print(mean_squared_error(y_test,pred))"
   ]
  },
  {
   "cell_type": "code",
   "execution_count": null,
   "metadata": {
    "scrolled": false
   },
   "outputs": [],
   "source": [
    "pd.Series(rf_regd.feature_importances_,index=X18.columns).sort_values(ascending=True).plot.barh()"
   ]
  },
  {
   "cell_type": "markdown",
   "metadata": {},
   "source": [
    "#### 회귀"
   ]
  },
  {
   "cell_type": "code",
   "execution_count": null,
   "metadata": {},
   "outputs": [],
   "source": [
    "X_train, X_test, y_train, y_test = train_test_split(X18_scaled,y18_scaled,test_size=0.2,random_state=0)\n",
    "lr_reg=LinearRegression()\n",
    "lr_reg.fit(X_train,y_train)\n",
    "pred=lr_reg.predict(X_test)\n",
    "\n",
    "evaluate_regr(y_test, pred)"
   ]
  },
  {
   "cell_type": "code",
   "execution_count": null,
   "metadata": {},
   "outputs": [],
   "source": [
    "# 각피처의 회귀 계수값 시각화\n",
    "coef= pd.Series(lr_reg.coef_,index=X18.columns)\n",
    "coef_sort = coef.sort_values(ascending=False)\n",
    "sns.barplot(x=coef_sort.values, y=coef_sort.index)"
   ]
  },
  {
   "cell_type": "markdown",
   "metadata": {},
   "source": [
    "#### AdaBoost"
   ]
  },
  {
   "cell_type": "code",
   "execution_count": null,
   "metadata": {},
   "outputs": [],
   "source": [
    "from sklearn.ensemble import AdaBoostRegressor\n",
    "from sklearn.model_selection import GridSearchCV\n",
    "\n",
    "n_estimators=[50,80,100,200]\n",
    "learning_rate=[0.05,0.1,0.5]\n",
    "\n",
    "param_grid = {\"n_estimators\":n_estimators,\n",
    "              \"learning_rate\":learning_rate}\n",
    "          \n",
    "X_train, X_test, y_train, y_test = train_test_split(X18_scaled,y18_scaled,test_size=0.2,random_state=0)\n",
    "\n",
    "cv=GridSearchCV(estimator=AdaBoostRegressor(random_state=0),\n",
    "               param_grid=param_grid, verbose=True)\n",
    "cv.fit(X_train,y_train)\n",
    "\n",
    "print(\"GridSearchCV 최적 하이퍼 파라미터:\",cv.best_params_)\n",
    "print(\"GridSearchCV 최고 정확도\",cv.best_score_)\n",
    "print(\"GridSearchCV 최적 모형\",cv.best_estimator_)"
   ]
  },
  {
   "cell_type": "code",
   "execution_count": null,
   "metadata": {},
   "outputs": [],
   "source": [
    "model=cv.best_estimator_\n",
    "pd.Series(model.feature_importances_, df18.columns[2:]).sort_values(ascending=True).plot.barh(width=0.8)"
   ]
  },
  {
   "cell_type": "code",
   "execution_count": null,
   "metadata": {
    "scrolled": true
   },
   "outputs": [],
   "source": [
    "from sklearn.metrics import mean_squared_error\n",
    "\n",
    "model.fit(X18_train, y18_train)\n",
    "pred=model.predict(X18_test)\n",
    "\n",
    "mean_squared_error(pred,y18_test)"
   ]
  },
  {
   "cell_type": "code",
   "execution_count": null,
   "metadata": {},
   "outputs": [],
   "source": []
  },
  {
   "cell_type": "markdown",
   "metadata": {},
   "source": [
    "### __4-2. 2019년도 언급횟수__"
   ]
  },
  {
   "cell_type": "code",
   "execution_count": null,
   "metadata": {},
   "outputs": [],
   "source": [
    "time4=sns2019.groupby(by='date')['cnt'].sum()\n",
    "plt.figure(figsize=(20,10))\n",
    "plt.plot(time4)\n",
    "plt.show()"
   ]
  },
  {
   "cell_type": "markdown",
   "metadata": {},
   "source": [
    "### __4-2-1. 2019년도 전체 언급횟수__"
   ]
  },
  {
   "cell_type": "code",
   "execution_count": null,
   "metadata": {},
   "outputs": [],
   "source": [
    "b19_tot=buy2019.groupby([\"date\"])[\"qty\"].sum()\n",
    "s19_tot=sns2019.groupby([\"date\"])[\"cnt\"].sum()\n",
    "b19_tot=b19_tot.reset_index(drop=True)\n",
    "s19_tot=s19_tot.reset_index(drop=True)\n",
    "\n",
    "df19=pd.concat([b19_tot,s19_tot,weather19],axis=1)\n",
    "df19.columns = ['buy','sns','avg_ta','avg_rhm','avg_cl','rain']\n",
    "\n",
    "X19=df19[df19.columns[2:]]\n",
    "y19=df19[\"sns\"]\n",
    "\n",
    "from sklearn.preprocessing import MinMaxScaler\n",
    "scaler=MinMaxScaler()\n",
    "X19_scaled=scaler.fit_transform(X19)\n",
    "y19_scaled=scaler.fit_transform(y19)"
   ]
  },
  {
   "cell_type": "markdown",
   "metadata": {},
   "source": [
    "#### Random Forest"
   ]
  },
  {
   "cell_type": "code",
   "execution_count": null,
   "metadata": {},
   "outputs": [],
   "source": [
    "X_train, X_test, y_train, y_test = train_test_split(X19_scaled,y19_scaled,test_size=0.2,random_state=0)"
   ]
  },
  {
   "cell_type": "code",
   "execution_count": null,
   "metadata": {},
   "outputs": [],
   "source": [
    "params={\n",
    "    'n_estimators':[500],\n",
    "    'max_depth':[6,8,10,12],\n",
    "    'min_samples_leaf':[8,12,18],\n",
    "    'min_samples_split':[8,16,20]\n",
    "}\n",
    "\n",
    "rf_reg=RandomForestRegressor(random_state=0,n_jobs=-1)\n",
    "grid_cv=GridSearchCV(rf_reg,param_grid=params, cv=2, n_jobs=-1)\n",
    "grid_cv.fit(X_train,y_train)\n",
    "\n",
    "print('최적 하이퍼 파라미터:\\n', grid_cv.best_params_)\n",
    "print('최고 예측 정확도:{0:.4f}'.format(grid_cv.best_score_))"
   ]
  },
  {
   "cell_type": "code",
   "execution_count": null,
   "metadata": {},
   "outputs": [],
   "source": [
    "rf_regd=RandomForestRegressor(n_estimators=500, max_depth=6, min_samples_leaf=18, min_samples_split=8,random_state=0)\n",
    "rf_regd.fit(X_train, y_train)\n",
    "pred=rf_regd.predict(X_test)\n",
    "print(mean_squared_error(y_test,pred))"
   ]
  },
  {
   "cell_type": "code",
   "execution_count": null,
   "metadata": {
    "scrolled": false
   },
   "outputs": [],
   "source": [
    "pd.Series(rf_regd.feature_importances_,index=X19.columns).sort_values(ascending=True).plot.barh()"
   ]
  },
  {
   "cell_type": "markdown",
   "metadata": {},
   "source": [
    "#### 회귀"
   ]
  },
  {
   "cell_type": "code",
   "execution_count": null,
   "metadata": {},
   "outputs": [],
   "source": [
    "X_train, X_test,y_train, y_test= train_test_split(X19_scaled, y19_scaled, test_size=0.3, random_state=0)\n",
    "lr_reg=LinearRegression()\n",
    "lr_reg.fit(X_train,y_train)\n",
    "pred=lr_reg.predict(X_test)\n",
    "\n",
    "evaluate_regr(y_test, pred)"
   ]
  },
  {
   "cell_type": "code",
   "execution_count": null,
   "metadata": {},
   "outputs": [],
   "source": [
    "# 각피처의 회귀 계수값 시각화\n",
    "coef= pd.Series(lr_reg.coef_,index=X19.columns)\n",
    "coef_sort = coef.sort_values(ascending=False)\n",
    "sns.barplot(x=coef_sort.values, y=coef_sort.index)"
   ]
  },
  {
   "cell_type": "markdown",
   "metadata": {},
   "source": [
    "#### AdaBoost"
   ]
  },
  {
   "cell_type": "code",
   "execution_count": null,
   "metadata": {},
   "outputs": [],
   "source": [
    "from sklearn.ensemble import AdaBoostRegressor\n",
    "from sklearn.model_selection import GridSearchCV\n",
    "\n",
    "n_estimators=[50,80,100,200]\n",
    "learning_rate=[0.05,0.1,0.5]\n",
    "\n",
    "param_grid = {\"n_estimators\":n_estimators,\n",
    "              \"learning_rate\":learning_rate}\n",
    "          \n",
    "X_train, X_test, y_train, y_test = train_test_split(X19_scaled,y19_scaled,test_size=0.2,random_state=0)\n",
    "\n",
    "cv=GridSearchCV(estimator=AdaBoostRegressor(random_state=0),\n",
    "               param_grid=param_grid, verbose=True)\n",
    "cv.fit(X_train,y_train)\n",
    "\n",
    "print(\"GridSearchCV 최적 하이퍼 파라미터:\",cv.best_params_)\n",
    "print(\"GridSearchCV 최고 정확도\",cv.best_score_)\n",
    "print(\"GridSearchCV 최적 모형\",cv.best_estimator_)"
   ]
  },
  {
   "cell_type": "code",
   "execution_count": null,
   "metadata": {},
   "outputs": [],
   "source": [
    "model=cv.best_estimator_\n",
    "pd.Series(model.feature_importances_, df19.columns[2:]).sort_values(ascending=True).plot.barh(width=0.8)"
   ]
  },
  {
   "cell_type": "code",
   "execution_count": null,
   "metadata": {
    "scrolled": true
   },
   "outputs": [],
   "source": [
    "from sklearn.metrics import mean_squared_error\n",
    "\n",
    "model.fit(X19_train, y19_train)\n",
    "pred=model.predict(X19_test)\n",
    "\n",
    "mean_squared_error(pred,y19_test)"
   ]
  },
  {
   "cell_type": "markdown",
   "metadata": {},
   "source": [
    "### __4-2-2. 2019년도 뷰티 언급횟수__"
   ]
  },
  {
   "cell_type": "code",
   "execution_count": null,
   "metadata": {},
   "outputs": [],
   "source": [
    "buy2019_b=buy2019[buy2019[\"bcat\"]==\"뷰티\"]\n",
    "sns2019_b=sns2019[sns2019[\"bcat\"]==\"뷰티\"]\n",
    "buy2019_b=buy2019_b.reset_index(drop=True)\n",
    "sns2019_b=sns2019_b.reset_index(drop=True)\n",
    "\n",
    "b19_tot=buy2019_b.groupby([\"date\"])[\"qty\"].sum()\n",
    "s19_tot=sns2019_b.groupby([\"date\"])[\"cnt\"].sum()\n",
    "b19_tot=b19_tot.reset_index(drop=True)\n",
    "s19_tot=s19_tot.reset_index(drop=True)\n",
    "\n",
    "df19=pd.concat([b19_tot,s19_tot,weather19],axis=1)\n",
    "df19.columns = ['buy','sns','avg_ta','avg_rhm','avg_cl','rain']\n",
    "\n",
    "X19=df19[df19.columns[2:]]\n",
    "y19=df19[\"sns\"]\n",
    "\n",
    "from sklearn.preprocessing import MinMaxScaler\n",
    "scaler=MinMaxScaler()\n",
    "X19_scaled=scaler.fit_transform(X19)\n",
    "y19_scaled=scaler.fit_transform(y19)"
   ]
  },
  {
   "cell_type": "markdown",
   "metadata": {},
   "source": [
    "#### Random Forest"
   ]
  },
  {
   "cell_type": "code",
   "execution_count": null,
   "metadata": {},
   "outputs": [],
   "source": [
    "X_train, X_test, y_train, y_test = train_test_split(X19_scaled,y19_scaled,test_size=0.2,random_state=0)"
   ]
  },
  {
   "cell_type": "code",
   "execution_count": null,
   "metadata": {},
   "outputs": [],
   "source": [
    "params={\n",
    "    'n_estimators':[500],\n",
    "    'max_depth':[6,8,10,12],\n",
    "    'min_samples_leaf':[8,12,18],\n",
    "    'min_samples_split':[8,16,20]\n",
    "}\n",
    "\n",
    "rf_reg=RandomForestRegressor(random_state=0,n_jobs=-1)\n",
    "grid_cv=GridSearchCV(rf_reg,param_grid=params, cv=2, n_jobs=-1)\n",
    "grid_cv.fit(X_train,y_train)\n",
    "\n",
    "print('최적 하이퍼 파라미터:\\n', grid_cv.best_params_)\n",
    "print('최고 예측 정확도:{0:.4f}'.format(grid_cv.best_score_))"
   ]
  },
  {
   "cell_type": "code",
   "execution_count": null,
   "metadata": {},
   "outputs": [],
   "source": [
    "rf_regt=RandomForestRegressor(n_estimators=500, max_depth=6, min_samples_leaf=18, min_samples_split=8,random_state=0)\n",
    "rf_regt.fit(X_train, y_train)\n",
    "pred=rf_regt.predict(X_test)\n",
    "print(mean_squared_error(y_test,pred))"
   ]
  },
  {
   "cell_type": "code",
   "execution_count": null,
   "metadata": {},
   "outputs": [],
   "source": [
    "pd.Series(rf_regt.feature_importances_,index=X19.columns).sort_values(ascending=True).plot.barh()"
   ]
  },
  {
   "cell_type": "markdown",
   "metadata": {},
   "source": [
    "#### 회귀"
   ]
  },
  {
   "cell_type": "code",
   "execution_count": null,
   "metadata": {},
   "outputs": [],
   "source": [
    "X_train, X_test,y_train, y_test= train_test_split(X19_scaled, y19_scaled, test_size=0.3, random_state=0)\n",
    "lr_reg=LinearRegression()\n",
    "lr_reg.fit(X_train,y_train)\n",
    "pred=lr_reg.predict(X_test)\n",
    "\n",
    "evaluate_regr(y_test, pred)"
   ]
  },
  {
   "cell_type": "code",
   "execution_count": null,
   "metadata": {},
   "outputs": [],
   "source": [
    "# 각피처의 회귀 계수값 시각화\n",
    "coef= pd.Series(lr_reg.coef_,index=X19.columns)\n",
    "coef_sort = coef.sort_values(ascending=False)\n",
    "sns.barplot(x=coef_sort.values, y=coef_sort.index)"
   ]
  },
  {
   "cell_type": "markdown",
   "metadata": {},
   "source": [
    "#### AdaBoost"
   ]
  },
  {
   "cell_type": "code",
   "execution_count": null,
   "metadata": {},
   "outputs": [],
   "source": [
    "from sklearn.ensemble import AdaBoostRegressor\n",
    "from sklearn.model_selection import GridSearchCV\n",
    "\n",
    "n_estimators=[50,80,100,200]\n",
    "learning_rate=[0.05,0.1,0.5]\n",
    "\n",
    "param_grid = {\"n_estimators\":n_estimators,\n",
    "              \"learning_rate\":learning_rate}\n",
    "          \n",
    "X_train, X_test, y_train, y_test = train_test_split(X19_scaled,y19_scaled,test_size=0.2,random_state=0)\n",
    "\n",
    "cv=GridSearchCV(estimator=AdaBoostRegressor(random_state=0),\n",
    "               param_grid=param_grid, verbose=True)\n",
    "cv.fit(X_train,y_train)\n",
    "\n",
    "print(\"GridSearchCV 최적 하이퍼 파라미터:\",cv.best_params_)\n",
    "print(\"GridSearchCV 최고 정확도\",cv.best_score_)\n",
    "print(\"GridSearchCV 최적 모형\",cv.best_estimator_)"
   ]
  },
  {
   "cell_type": "code",
   "execution_count": null,
   "metadata": {},
   "outputs": [],
   "source": [
    "model=cv.best_estimator_\n",
    "pd.Series(model.feature_importances_, df19.columns[2:]).sort_values(ascending=True).plot.barh(width=0.8)"
   ]
  },
  {
   "cell_type": "code",
   "execution_count": null,
   "metadata": {
    "scrolled": true
   },
   "outputs": [],
   "source": [
    "from sklearn.metrics import mean_squared_error\n",
    "\n",
    "model.fit(X19_train, y19_train)\n",
    "pred=model.predict(X19_test)\n",
    "\n",
    "mean_squared_error(pred,y19_test)"
   ]
  },
  {
   "cell_type": "code",
   "execution_count": null,
   "metadata": {},
   "outputs": [],
   "source": []
  },
  {
   "cell_type": "markdown",
   "metadata": {},
   "source": [
    "### __4-2-3. 2019년도 냉난방가전 언급횟수__"
   ]
  },
  {
   "cell_type": "code",
   "execution_count": null,
   "metadata": {},
   "outputs": [],
   "source": [
    "buy2019_n=buy2019[buy2019[\"bcat\"]==\"냉난방가전\"]\n",
    "sns2019_n=sns2019[sns2019[\"bcat\"]==\"냉난방가전\"]\n",
    "buy2019_n=buy2019_n.reset_index(drop=True)\n",
    "sns2019_n=sns2019_n.reset_index(drop=True)\n",
    "b19_tot=buy2019_n.groupby([\"date\"])[\"qty\"].sum()\n",
    "s19_tot=sns2019_n.groupby([\"date\"])[\"cnt\"].sum()\n",
    "b19_tot=b19_tot.reset_index(drop=True)\n",
    "s19_tot=s19_tot.reset_index(drop=True)\n",
    "\n",
    "df19=pd.concat([b19_tot,s19_tot,weather19],axis=1)\n",
    "df19.columns = ['buy','sns','avg_ta','avg_rhm','avg_cl','rain']\n",
    "\n",
    "X19=df19[df19.columns[2:]]\n",
    "y19=df19[\"sns\"]\n",
    "\n",
    "from sklearn.preprocessing import MinMaxScaler\n",
    "scaler=MinMaxScaler()\n",
    "X19_scaled=scaler.fit_transform(X19)\n",
    "y19_scaled=scaler.fit_transform(y19)"
   ]
  },
  {
   "cell_type": "markdown",
   "metadata": {},
   "source": [
    "#### Random Forest"
   ]
  },
  {
   "cell_type": "code",
   "execution_count": null,
   "metadata": {},
   "outputs": [],
   "source": [
    "X_train, X_test, y_train, y_test = train_test_split(X19_scaled,y19_scaled,test_size=0.2,random_state=0)"
   ]
  },
  {
   "cell_type": "code",
   "execution_count": null,
   "metadata": {},
   "outputs": [],
   "source": [
    "params={\n",
    "    'n_estimators':[500],\n",
    "    'max_depth':[6,8,10,12],\n",
    "    'min_samples_leaf':[8,12,18],\n",
    "    'min_samples_split':[8,16,20]\n",
    "}\n",
    "\n",
    "rf_reg=RandomForestRegressor(random_state=0,n_jobs=-1)\n",
    "grid_cv=GridSearchCV(rf_reg,param_grid=params, cv=2, n_jobs=-1)\n",
    "grid_cv.fit(X_train,y_train)\n",
    "\n",
    "print('최적 하이퍼 파라미터:\\n', grid_cv.best_params_)\n",
    "print('최고 예측 정확도:{0:.4f}'.format(grid_cv.best_score_))"
   ]
  },
  {
   "cell_type": "code",
   "execution_count": null,
   "metadata": {},
   "outputs": [],
   "source": [
    "rf_reg4=RandomForestRegressor(n_estimators=500,max_depth=6,min_samples_leaf=18,min_samples_split=8,random_state=0)\n",
    "rf_reg4.fit(X_train, y_train)\n",
    "pred=rf_reg4.predict(X_test)\n",
    "print(mean_squared_error(y_test,pred))"
   ]
  },
  {
   "cell_type": "code",
   "execution_count": null,
   "metadata": {},
   "outputs": [],
   "source": [
    "pd.Series(rf_reg4.feature_importances_,index=X19.columns).sort_values(ascending=True).plot.barh()"
   ]
  },
  {
   "cell_type": "markdown",
   "metadata": {},
   "source": [
    "2019년 냉난방 sns 언급 횟수는 평균 기온에 가장 큰 영향을 받았다. "
   ]
  },
  {
   "cell_type": "code",
   "execution_count": null,
   "metadata": {},
   "outputs": [],
   "source": []
  },
  {
   "cell_type": "markdown",
   "metadata": {},
   "source": [
    "#### 회귀"
   ]
  },
  {
   "cell_type": "code",
   "execution_count": null,
   "metadata": {},
   "outputs": [],
   "source": [
    "X_train, X_test,y_train, y_test= train_test_split(X19_scaled, y19_scaled, test_size=0.3, random_state=0)\n",
    "lr_reg=LinearRegression()\n",
    "lr_reg.fit(X_train,y_train)\n",
    "pred=lr_reg.predict(X_test)\n",
    "\n",
    "evaluate_regr(y_test, pred)"
   ]
  },
  {
   "cell_type": "code",
   "execution_count": null,
   "metadata": {},
   "outputs": [],
   "source": [
    "# 각피처의 회귀 계수값 시각화\n",
    "coef= pd.Series(lr_reg.coef_,index=X19.columns)\n",
    "coef_sort = coef.sort_values(ascending=False)\n",
    "sns.barplot(x=coef_sort.values, y=coef_sort.index)"
   ]
  },
  {
   "cell_type": "code",
   "execution_count": null,
   "metadata": {},
   "outputs": [],
   "source": []
  },
  {
   "cell_type": "markdown",
   "metadata": {},
   "source": [
    "#### AdaBoost"
   ]
  },
  {
   "cell_type": "code",
   "execution_count": null,
   "metadata": {},
   "outputs": [],
   "source": [
    "from sklearn.ensemble import AdaBoostRegressor\n",
    "from sklearn.model_selection import GridSearchCV\n",
    "\n",
    "n_estimators=[50,80,100,200]\n",
    "learning_rate=[0.05,0.1,0.5]\n",
    "\n",
    "param_grid = {\"n_estimators\":n_estimators,\n",
    "              \"learning_rate\":learning_rate}\n",
    "          \n",
    "X_train, X_test, y_train, y_test = train_test_split(X19_scaled,y19_scaled,test_size=0.2,random_state=0)\n",
    "\n",
    "cv=GridSearchCV(estimator=AdaBoostRegressor(random_state=0),\n",
    "               param_grid=param_grid, verbose=True)\n",
    "cv.fit(X_train,y_train)\n",
    "\n",
    "print(\"GridSearchCV 최적 하이퍼 파라미터:\",cv.best_params_)\n",
    "print(\"GridSearchCV 최고 정확도\",cv.best_score_)\n",
    "print(\"GridSearchCV 최적 모형\",cv.best_estimator_)"
   ]
  },
  {
   "cell_type": "code",
   "execution_count": null,
   "metadata": {},
   "outputs": [],
   "source": [
    "model=cv.best_estimator_\n",
    "pd.Series(model.feature_importances_, df19.columns[2:]).sort_values(ascending=True).plot.barh(width=0.8)"
   ]
  },
  {
   "cell_type": "code",
   "execution_count": null,
   "metadata": {
    "scrolled": false
   },
   "outputs": [],
   "source": [
    "from sklearn.metrics import mean_squared_error\n",
    "\n",
    "model.fit(X19_train, y19_train)\n",
    "pred=model.predict(X19_test)\n",
    "\n",
    "mean_squared_error(pred,y19_test)"
   ]
  },
  {
   "cell_type": "code",
   "execution_count": null,
   "metadata": {},
   "outputs": [],
   "source": []
  },
  {
   "cell_type": "markdown",
   "metadata": {},
   "source": [
    "### __4-2-4. 2019년도 식품 언급횟수__"
   ]
  },
  {
   "cell_type": "code",
   "execution_count": null,
   "metadata": {},
   "outputs": [],
   "source": [
    "buy2019_f=buy2019[buy2019[\"bcat\"]==\"식품\"]\n",
    "sns2019_f=sns2019[sns2019[\"bcat\"]==\"식품\"]\n",
    "buy2019_f=buy2019_f.reset_index(drop=True)\n",
    "sns2019_f=sns2019_f.reset_index(drop=True)\n",
    "b19_tot=buy2019_f.groupby([\"date\"])[\"qty\"].sum()\n",
    "s19_tot=sns2019_f.groupby([\"date\"])[\"cnt\"].sum()\n",
    "b19_tot=b19_tot.reset_index(drop=True)\n",
    "s19_tot=s19_tot.reset_index(drop=True)\n",
    "\n",
    "df19=pd.concat([b19_tot,s19_tot,weather19],axis=1)\n",
    "df19.columns = ['buy','sns','avg_ta','avg_rhm','avg_cl','rain']\n",
    "\n",
    "X19=df19[df19.columns[2:]]\n",
    "y19=df19[\"sns\"]\n",
    "\n",
    "from sklearn.preprocessing import MinMaxScaler\n",
    "scaler=MinMaxScaler()\n",
    "X19_scaled=scaler.fit_transform(X19)\n",
    "y19_scaled=scaler.fit_transform(y19)"
   ]
  },
  {
   "cell_type": "markdown",
   "metadata": {},
   "source": [
    "#### Random Forest"
   ]
  },
  {
   "cell_type": "code",
   "execution_count": null,
   "metadata": {},
   "outputs": [],
   "source": [
    "X_train, X_test, y_train, y_test = train_test_split(X19_scaled,y19_scaled,test_size=0.2,random_state=0)"
   ]
  },
  {
   "cell_type": "code",
   "execution_count": null,
   "metadata": {},
   "outputs": [],
   "source": [
    "params={\n",
    "    'n_estimators':[500],\n",
    "    'max_depth':[6,8,10,12],\n",
    "    'min_samples_leaf':[8,12,18],\n",
    "    'min_samples_split':[8,16,20]\n",
    "}\n",
    "\n",
    "rf_reg=RandomForestRegressor(random_state=0,n_jobs=-1)\n",
    "grid_cv=GridSearchCV(rf_reg,param_grid=params, cv=2, n_jobs=-1)\n",
    "grid_cv.fit(X_train,y_train)\n",
    "\n",
    "print('최적 하이퍼 파라미터:\\n', grid_cv.best_params_)\n",
    "print('최고 예측 정확도:{0:.4f}'.format(grid_cv.best_score_))"
   ]
  },
  {
   "cell_type": "code",
   "execution_count": null,
   "metadata": {},
   "outputs": [],
   "source": [
    "rf_regp=RandomForestRegressor(n_estimators=500, max_depth=6, min_samples_leaf=18, min_samples_split=8,random_state=0)\n",
    "rf_regp.fit(X_train, y_train)\n",
    "pred=rf_regp.predict(X_test)\n",
    "print(mean_squared_error(y_test,pred))"
   ]
  },
  {
   "cell_type": "code",
   "execution_count": null,
   "metadata": {
    "scrolled": false
   },
   "outputs": [],
   "source": [
    "pd.Series(rf_regp.feature_importances_,index=X19.columns).sort_values(ascending=True).plot.barh()"
   ]
  },
  {
   "cell_type": "code",
   "execution_count": null,
   "metadata": {},
   "outputs": [],
   "source": []
  },
  {
   "cell_type": "markdown",
   "metadata": {},
   "source": [
    "#### 회귀"
   ]
  },
  {
   "cell_type": "code",
   "execution_count": null,
   "metadata": {},
   "outputs": [],
   "source": [
    "X_train, X_test,y_train, y_test= train_test_split(X19_scaled, y19_scaled, test_size=0.3, random_state=0)\n",
    "lr_reg=LinearRegression()\n",
    "lr_reg.fit(X_train,y_train)\n",
    "pred=lr_reg.predict(X_test)\n",
    "\n",
    "evaluate_regr(y_test, pred)"
   ]
  },
  {
   "cell_type": "code",
   "execution_count": null,
   "metadata": {},
   "outputs": [],
   "source": [
    "# 각피처의 회귀 계수값 시각화\n",
    "coef= pd.Series(lr_reg.coef_,index=X19.columns)\n",
    "coef_sort = coef.sort_values(ascending=False)\n",
    "sns.barplot(x=coef_sort.values, y=coef_sort.index)"
   ]
  },
  {
   "cell_type": "code",
   "execution_count": null,
   "metadata": {},
   "outputs": [],
   "source": []
  },
  {
   "cell_type": "markdown",
   "metadata": {},
   "source": [
    "#### AdaBoost"
   ]
  },
  {
   "cell_type": "code",
   "execution_count": null,
   "metadata": {},
   "outputs": [],
   "source": [
    "from sklearn.ensemble import AdaBoostRegressor\n",
    "from sklearn.model_selection import GridSearchCV\n",
    "\n",
    "n_estimators=[50,80,100,200]\n",
    "learning_rate=[0.05,0.1,0.5]\n",
    "\n",
    "param_grid = {\"n_estimators\":n_estimators,\n",
    "              \"learning_rate\":learning_rate}\n",
    "          \n",
    "X_train, X_test, y_train, y_test = train_test_split(X19_scaled,y19_scaled,test_size=0.2,random_state=0)\n",
    "\n",
    "cv=GridSearchCV(estimator=AdaBoostRegressor(random_state=0),\n",
    "               param_grid=param_grid, verbose=True)\n",
    "cv.fit(X_train,y_train)\n",
    "\n",
    "print(\"GridSearchCV 최적 하이퍼 파라미터:\",cv.best_params_)\n",
    "print(\"GridSearchCV 최고 정확도\",cv.best_score_)\n",
    "print(\"GridSearchCV 최적 모형\",cv.best_estimator_)"
   ]
  },
  {
   "cell_type": "code",
   "execution_count": null,
   "metadata": {},
   "outputs": [],
   "source": [
    "model=cv.best_estimator_\n",
    "pd.Series(model.feature_importances_, df19.columns[2:]).sort_values(ascending=True).plot.barh(width=0.8)"
   ]
  },
  {
   "cell_type": "code",
   "execution_count": null,
   "metadata": {
    "scrolled": false
   },
   "outputs": [],
   "source": [
    "from sklearn.metrics import mean_squared_error\n",
    "\n",
    "model.fit(X19_train, y19_train)\n",
    "pred=model.predict(X19_test)\n",
    "\n",
    "mean_squared_error(pred,y19_test)"
   ]
  },
  {
   "cell_type": "code",
   "execution_count": null,
   "metadata": {},
   "outputs": [],
   "source": []
  },
  {
   "cell_type": "code",
   "execution_count": null,
   "metadata": {},
   "outputs": [],
   "source": []
  }
 ],
 "metadata": {
  "kernelspec": {
   "display_name": "Python 3",
   "language": "python",
   "name": "python3"
  },
  "language_info": {
   "codemirror_mode": {
    "name": "ipython",
    "version": 3
   },
   "file_extension": ".py",
   "mimetype": "text/x-python",
   "name": "python",
   "nbconvert_exporter": "python",
   "pygments_lexer": "ipython3",
   "version": "3.8.5"
  }
 },
 "nbformat": 4,
 "nbformat_minor": 2
}
